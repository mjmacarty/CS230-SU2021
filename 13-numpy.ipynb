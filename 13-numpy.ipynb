{
 "cells": [
  {
   "cell_type": "markdown",
   "id": "8d58725a",
   "metadata": {},
   "source": [
    "# NumPy\n",
    "* high performance array\n",
    "* array much than a list\n",
    "* written in progranmming language C \n",
    "* array require data to be all of the same type\n",
    "* arrays must be dimensioned first\n",
    "* NumPy all kinds of functionality \n",
    "* NumPy base of larger data science eco-system includes: matplot, pandas, sklearn, impage processing"
   ]
  },
  {
   "cell_type": "code",
   "execution_count": 1,
   "id": "ad07fb84",
   "metadata": {},
   "outputs": [],
   "source": [
    "import numpy as np"
   ]
  },
  {
   "cell_type": "code",
   "execution_count": 2,
   "id": "d548172d",
   "metadata": {},
   "outputs": [
    {
     "data": {
      "text/plain": [
       "[0, 1, 2, 3, 4, 5, 6, 7, 8, 9, 10]"
      ]
     },
     "execution_count": 2,
     "metadata": {},
     "output_type": "execute_result"
    }
   ],
   "source": [
    "numbers = list(range(11))\n",
    "numbers"
   ]
  },
  {
   "cell_type": "code",
   "execution_count": 3,
   "id": "c28c4358",
   "metadata": {},
   "outputs": [
    {
     "data": {
      "text/plain": [
       "[0, 1, 4, 9, 16, 25, 36, 49, 64, 81, 100]"
      ]
     },
     "execution_count": 3,
     "metadata": {},
     "output_type": "execute_result"
    }
   ],
   "source": [
    "[i ** 2 for i in numbers]"
   ]
  },
  {
   "cell_type": "code",
   "execution_count": 4,
   "id": "8372595f",
   "metadata": {},
   "outputs": [],
   "source": [
    "squares = []\n",
    "for number in numbers:\n",
    "    squares.append(number ** 2)"
   ]
  },
  {
   "cell_type": "code",
   "execution_count": 5,
   "id": "d119fcfd",
   "metadata": {},
   "outputs": [
    {
     "data": {
      "text/plain": [
       "[0, 1, 2, 3, 4, 5, 6, 7, 8, 9, 10, 0, 1, 2, 3, 4, 5, 6, 7, 8, 9, 10]"
      ]
     },
     "execution_count": 5,
     "metadata": {},
     "output_type": "execute_result"
    }
   ],
   "source": [
    "numbers + numbers"
   ]
  },
  {
   "cell_type": "code",
   "execution_count": 6,
   "id": "52888684",
   "metadata": {},
   "outputs": [
    {
     "name": "stdout",
     "output_type": "stream",
     "text": [
      "[ 0  1  2  3  4  5  6  7  8  9 10]\n"
     ]
    }
   ],
   "source": [
    "squares = np.array(range(11))\n",
    "print(squares)"
   ]
  },
  {
   "cell_type": "code",
   "execution_count": 7,
   "id": "bbb811b7",
   "metadata": {},
   "outputs": [
    {
     "data": {
      "text/plain": [
       "array([  0,   1,   4,   9,  16,  25,  36,  49,  64,  81, 100], dtype=int32)"
      ]
     },
     "execution_count": 7,
     "metadata": {},
     "output_type": "execute_result"
    }
   ],
   "source": [
    " squares ** 2"
   ]
  },
  {
   "cell_type": "code",
   "execution_count": 8,
   "id": "ff62bf8e",
   "metadata": {},
   "outputs": [
    {
     "data": {
      "text/plain": [
       "array([  0,   1,   4,   3,  16,   5,  36,   7,  64,   9, 100])"
      ]
     },
     "execution_count": 8,
     "metadata": {},
     "output_type": "execute_result"
    }
   ],
   "source": [
    "np.where(squares % 2 == 0, squares ** 2, squares)"
   ]
  },
  {
   "cell_type": "code",
   "execution_count": 9,
   "id": "a541cd7c",
   "metadata": {},
   "outputs": [
    {
     "data": {
      "text/plain": [
       "array([ 0,  2,  4,  6,  8, 10, 12, 14, 16, 18, 20])"
      ]
     },
     "execution_count": 9,
     "metadata": {},
     "output_type": "execute_result"
    }
   ],
   "source": [
    "squares + squares"
   ]
  },
  {
   "cell_type": "code",
   "execution_count": 10,
   "id": "33a6eb70",
   "metadata": {},
   "outputs": [
    {
     "data": {
      "text/plain": [
       "array([ 5,  6,  7,  8,  9, 10, 11, 12, 13, 14, 15])"
      ]
     },
     "execution_count": 10,
     "metadata": {},
     "output_type": "execute_result"
    }
   ],
   "source": [
    "squares + 5"
   ]
  },
  {
   "cell_type": "code",
   "execution_count": 11,
   "id": "cd3da558",
   "metadata": {},
   "outputs": [],
   "source": [
    "# comparing performance"
   ]
  },
  {
   "cell_type": "code",
   "execution_count": 12,
   "id": "a9b07c54",
   "metadata": {},
   "outputs": [],
   "source": [
    "arr = np.arange(1e6, dtype=int)\n",
    "arr_list = arr.tolist()"
   ]
  },
  {
   "cell_type": "code",
   "execution_count": 13,
   "id": "35b7cc7f",
   "metadata": {},
   "outputs": [
    {
     "data": {
      "text/plain": [
       "array([0, 1, 2, 3, 4, 5, 6, 7, 8, 9])"
      ]
     },
     "execution_count": 13,
     "metadata": {},
     "output_type": "execute_result"
    }
   ],
   "source": [
    "arr[:10]"
   ]
  },
  {
   "cell_type": "code",
   "execution_count": 14,
   "id": "62095333",
   "metadata": {},
   "outputs": [
    {
     "data": {
      "text/plain": [
       "[0, 1, 2, 3, 4, 5, 6, 7, 8, 9]"
      ]
     },
     "execution_count": 14,
     "metadata": {},
     "output_type": "execute_result"
    }
   ],
   "source": [
    "arr_list[:10]"
   ]
  },
  {
   "cell_type": "code",
   "execution_count": 15,
   "id": "ec41628c",
   "metadata": {},
   "outputs": [
    {
     "data": {
      "text/plain": [
       "0"
      ]
     },
     "execution_count": 15,
     "metadata": {},
     "output_type": "execute_result"
    }
   ],
   "source": [
    "min(arr)"
   ]
  },
  {
   "cell_type": "code",
   "execution_count": 16,
   "id": "b1d367af",
   "metadata": {},
   "outputs": [
    {
     "data": {
      "text/plain": [
       "288675.1345946685"
      ]
     },
     "execution_count": 16,
     "metadata": {},
     "output_type": "execute_result"
    }
   ],
   "source": [
    "arr.std()"
   ]
  },
  {
   "cell_type": "code",
   "execution_count": 17,
   "id": "b065f3e7",
   "metadata": {},
   "outputs": [
    {
     "name": "stdout",
     "output_type": "stream",
     "text": [
      "218 ms ± 34.1 ms per loop (mean ± std. dev. of 7 runs, 10 loops each)\n"
     ]
    }
   ],
   "source": [
    "%timeit -n10 y = [x * 5 for x in arr_list]"
   ]
  },
  {
   "cell_type": "code",
   "execution_count": 18,
   "id": "d4635566",
   "metadata": {},
   "outputs": [
    {
     "name": "stdout",
     "output_type": "stream",
     "text": [
      "3.88 ms ± 561 µs per loop (mean ± std. dev. of 7 runs, 10 loops each)\n"
     ]
    }
   ],
   "source": [
    "%timeit -n10 x = arr * 5"
   ]
  },
  {
   "cell_type": "code",
   "execution_count": 19,
   "id": "11f33cf3",
   "metadata": {},
   "outputs": [
    {
     "data": {
      "text/plain": [
       "(5, 4)"
      ]
     },
     "execution_count": 19,
     "metadata": {},
     "output_type": "execute_result"
    }
   ],
   "source": [
    "arr = np.arange(20).reshape(5,4)\n",
    "arr.shape"
   ]
  },
  {
   "cell_type": "code",
   "execution_count": 20,
   "id": "3b964ecf",
   "metadata": {},
   "outputs": [
    {
     "data": {
      "text/plain": [
       "array([[ 0,  1,  2,  3],\n",
       "       [ 4,  5,  6,  7],\n",
       "       [ 8,  9, 10, 11],\n",
       "       [12, 13, 14, 15],\n",
       "       [16, 17, 18, 19]])"
      ]
     },
     "execution_count": 20,
     "metadata": {},
     "output_type": "execute_result"
    }
   ],
   "source": [
    "arr"
   ]
  },
  {
   "cell_type": "code",
   "execution_count": 21,
   "id": "e15cd895",
   "metadata": {},
   "outputs": [
    {
     "data": {
      "text/plain": [
       "array([[[ 0,  1,  2],\n",
       "        [ 3,  4,  5],\n",
       "        [ 6,  7,  8]],\n",
       "\n",
       "       [[ 9, 10, 11],\n",
       "        [12, 13, 14],\n",
       "        [15, 16, 17]],\n",
       "\n",
       "       [[18, 19, 20],\n",
       "        [21, 22, 23],\n",
       "        [24, 25, 26]]])"
      ]
     },
     "execution_count": 21,
     "metadata": {},
     "output_type": "execute_result"
    }
   ],
   "source": [
    "three_d = np.arange(27).reshape(3,3,3)\n",
    "three_d"
   ]
  },
  {
   "cell_type": "code",
   "execution_count": 22,
   "id": "19dbba8e",
   "metadata": {},
   "outputs": [
    {
     "data": {
      "text/plain": [
       "0"
      ]
     },
     "execution_count": 22,
     "metadata": {},
     "output_type": "execute_result"
    }
   ],
   "source": [
    "three_d[0][0][0]"
   ]
  },
  {
   "cell_type": "code",
   "execution_count": 23,
   "id": "b78822da",
   "metadata": {},
   "outputs": [],
   "source": [
    "sales = np.random.randint(500,1000, size= 20).reshape(4,5)"
   ]
  },
  {
   "cell_type": "code",
   "execution_count": 24,
   "id": "08c4bf31",
   "metadata": {},
   "outputs": [
    {
     "data": {
      "text/plain": [
       "array([[735, 881, 657, 591, 635],\n",
       "       [803, 561, 578, 678, 727],\n",
       "       [512, 796, 674, 686, 573],\n",
       "       [829, 620, 526, 752, 587]])"
      ]
     },
     "execution_count": 24,
     "metadata": {},
     "output_type": "execute_result"
    }
   ],
   "source": [
    "sales"
   ]
  },
  {
   "cell_type": "code",
   "execution_count": 25,
   "id": "d8169de5",
   "metadata": {},
   "outputs": [
    {
     "data": {
      "text/plain": [
       "670.05"
      ]
     },
     "execution_count": 25,
     "metadata": {},
     "output_type": "execute_result"
    }
   ],
   "source": [
    "sales.mean()"
   ]
  },
  {
   "cell_type": "code",
   "execution_count": 26,
   "id": "8bf35678",
   "metadata": {},
   "outputs": [
    {
     "data": {
      "text/plain": [
       "array([699.8, 669.4, 648.2, 662.8])"
      ]
     },
     "execution_count": 26,
     "metadata": {},
     "output_type": "execute_result"
    }
   ],
   "source": [
    "sales.mean(axis = 1)"
   ]
  },
  {
   "cell_type": "code",
   "execution_count": 27,
   "id": "5f7de360",
   "metadata": {},
   "outputs": [
    {
     "data": {
      "text/plain": [
       "array([719.75, 714.5 , 608.75, 676.75, 630.5 ])"
      ]
     },
     "execution_count": 27,
     "metadata": {},
     "output_type": "execute_result"
    }
   ],
   "source": [
    "sales.mean(axis = 0)"
   ]
  },
  {
   "cell_type": "code",
   "execution_count": 28,
   "id": "8c26359c",
   "metadata": {},
   "outputs": [
    {
     "data": {
      "text/plain": [
       "array([769. , 708. , 617.5, 682. , 611. ])"
      ]
     },
     "execution_count": 28,
     "metadata": {},
     "output_type": "execute_result"
    }
   ],
   "source": [
    "np.median(sales, axis = 0)"
   ]
  },
  {
   "cell_type": "code",
   "execution_count": 29,
   "id": "66f188d6",
   "metadata": {},
   "outputs": [
    {
     "data": {
      "text/plain": [
       "499999.5"
      ]
     },
     "execution_count": 29,
     "metadata": {},
     "output_type": "execute_result"
    }
   ],
   "source": [
    "np.median(arr_list)"
   ]
  },
  {
   "cell_type": "code",
   "execution_count": 30,
   "id": "63b8c021",
   "metadata": {},
   "outputs": [
    {
     "data": {
      "text/plain": [
       "array([-0.10610235, -0.60133139, -1.41166802,  0.12350635, -0.6653377 ,\n",
       "       -0.05900968,  0.12994857,  0.69678723,  1.99929545, -2.11017097])"
      ]
     },
     "execution_count": 30,
     "metadata": {},
     "output_type": "execute_result"
    }
   ],
   "source": [
    "p = [2.5, 5, 50, 95, 97.5]\n",
    "x = np.random.standard_normal(1000000)\n",
    "x[:10]"
   ]
  },
  {
   "cell_type": "code",
   "execution_count": 31,
   "id": "ba9ded68",
   "metadata": {},
   "outputs": [
    {
     "data": {
      "text/plain": [
       "array([-1.95839886e+00, -1.64226016e+00,  3.99112349e-04,  1.64869018e+00,\n",
       "        1.96544934e+00])"
      ]
     },
     "execution_count": 31,
     "metadata": {},
     "output_type": "execute_result"
    }
   ],
   "source": [
    "np.percentile(x, p)"
   ]
  },
  {
   "cell_type": "code",
   "execution_count": 32,
   "id": "61eb5a07",
   "metadata": {},
   "outputs": [
    {
     "data": {
      "image/png": "[encoded data removed]",
      "text/plain": [
       "<Figure size 432x288 with 1 Axes>"
      ]
     },
     "metadata": {
      "needs_background": "light"
     },
     "output_type": "display_data"
    }
   ],
   "source": [
    "import matplotlib.pyplot as plt\n",
    "plt.hist(x, bins = 50, edgecolor = 'w');"
   ]
  },
  {
   "cell_type": "code",
   "execution_count": 33,
   "id": "6d83a127",
   "metadata": {},
   "outputs": [],
   "source": [
    "import math"
   ]
  },
  {
   "cell_type": "code",
   "execution_count": 34,
   "id": "25f47c51",
   "metadata": {},
   "outputs": [
    {
     "data": {
      "text/plain": [
       "array([0., 0., 0., 0., 0., 0., 0., 0., 0., 0.])"
      ]
     },
     "execution_count": 34,
     "metadata": {},
     "output_type": "execute_result"
    }
   ],
   "source": [
    "np.zeros(10)"
   ]
  },
  {
   "cell_type": "code",
   "execution_count": 35,
   "id": "b3006ff4",
   "metadata": {},
   "outputs": [
    {
     "data": {
      "text/plain": [
       "array([1., 1., 1., 1., 1., 1., 1., 1., 1., 1.])"
      ]
     },
     "execution_count": 35,
     "metadata": {},
     "output_type": "execute_result"
    }
   ],
   "source": [
    "np.ones(10)"
   ]
  },
  {
   "cell_type": "code",
   "execution_count": 36,
   "id": "6d5f41f5",
   "metadata": {},
   "outputs": [
    {
     "data": {
      "text/plain": [
       "array([1., 1., 1., 1., 1., 1., 1., 1., 1., 1.])"
      ]
     },
     "execution_count": 36,
     "metadata": {},
     "output_type": "execute_result"
    }
   ],
   "source": [
    "np.empty(10)"
   ]
  },
  {
   "cell_type": "code",
   "execution_count": 37,
   "id": "7235dc66",
   "metadata": {},
   "outputs": [
    {
     "data": {
      "text/plain": [
       "array([[0., 1., 0., 0., 0.],\n",
       "       [0., 0., 1., 0., 0.],\n",
       "       [0., 0., 0., 1., 0.],\n",
       "       [0., 0., 0., 0., 1.],\n",
       "       [0., 0., 0., 0., 0.]])"
      ]
     },
     "execution_count": 37,
     "metadata": {},
     "output_type": "execute_result"
    }
   ],
   "source": [
    "np.eye(5,5, k =1)"
   ]
  },
  {
   "cell_type": "code",
   "execution_count": 38,
   "id": "c7ddba2c",
   "metadata": {},
   "outputs": [
    {
     "data": {
      "text/plain": [
       "(22, 10000)"
      ]
     },
     "execution_count": 38,
     "metadata": {},
     "output_type": "execute_result"
    }
   ],
   "source": [
    "r = .00125\n",
    "vol = .30\n",
    "price = 100\n",
    "T = 1/252\n",
    "days = 21\n",
    "iterations = 10000\n",
    "S = np.zeros((days + 1, iterations))\n",
    "S.shape"
   ]
  },
  {
   "cell_type": "code",
   "execution_count": 39,
   "id": "609f9f67",
   "metadata": {},
   "outputs": [
    {
     "data": {
      "text/plain": [
       "array([[100., 100., 100., ..., 100., 100., 100.],\n",
       "       [  0.,   0.,   0., ...,   0.,   0.,   0.],\n",
       "       [  0.,   0.,   0., ...,   0.,   0.,   0.],\n",
       "       ...,\n",
       "       [  0.,   0.,   0., ...,   0.,   0.,   0.],\n",
       "       [  0.,   0.,   0., ...,   0.,   0.,   0.],\n",
       "       [  0.,   0.,   0., ...,   0.,   0.,   0.]])"
      ]
     },
     "execution_count": 39,
     "metadata": {},
     "output_type": "execute_result"
    }
   ],
   "source": [
    "S[0] = price\n",
    "S"
   ]
  },
  {
   "cell_type": "code",
   "execution_count": 40,
   "id": "376ece9c",
   "metadata": {},
   "outputs": [],
   "source": [
    "from numpy import random as npr\n",
    "for iteration in range(iterations):\n",
    "    for day in range(1, days + 1):\n",
    "        S[day][iteration] = S[day - 1][iteration] * np.exp((r - .5 * vol ** 2) * T + np.sqrt(T)* vol * npr.standard_normal())"
   ]
  },
  {
   "cell_type": "code",
   "execution_count": 41,
   "id": "aec2d822",
   "metadata": {},
   "outputs": [
    {
     "data": {
      "text/plain": [
       "array([[100.        , 100.        , 100.        , 100.        ,\n",
       "        100.        ],\n",
       "       [102.21124388,  97.92489057,  98.25718788, 102.60534714,\n",
       "        100.66082495],\n",
       "       [104.76312811,  98.31204105,  99.82170369, 107.58585889,\n",
       "         97.55751961],\n",
       "       [106.88794035,  99.17885183, 101.51047302, 108.53946282,\n",
       "        100.23855813],\n",
       "       [109.83188987, 100.51471379, 101.81340101, 108.757633  ,\n",
       "         97.72471027],\n",
       "       [103.98106642, 100.20256274, 103.19422274, 108.76757269,\n",
       "         96.8693469 ],\n",
       "       [103.77027224,  98.41930681, 104.31519216, 105.65737712,\n",
       "         95.26765529],\n",
       "       [103.15137122,  95.54589956, 103.48679826, 108.19860685,\n",
       "         95.99476182],\n",
       "       [102.52518315,  97.63151424, 103.35716477, 109.87816575,\n",
       "         97.8664534 ],\n",
       "       [ 99.41344274, 102.28674592, 102.9047098 , 109.48599417,\n",
       "         98.83008086],\n",
       "       [102.77214505, 104.1303506 , 100.26469194, 108.32623912,\n",
       "        100.90204721],\n",
       "       [100.44213698, 100.72203744, 105.26518159, 102.77129268,\n",
       "        103.46167828],\n",
       "       [ 98.96198812, 100.3776244 , 104.73344706,  99.4190141 ,\n",
       "        104.72040145],\n",
       "       [100.73471696,  99.8211347 , 101.21815484,  95.20475538,\n",
       "        110.87591874],\n",
       "       [ 98.63230099,  98.88989504, 103.34480575,  97.2039309 ,\n",
       "        109.14210689],\n",
       "       [ 96.31887848,  98.85945788, 103.40305908,  96.56188438,\n",
       "        107.95257723],\n",
       "       [ 96.93971553,  99.57588982, 100.89096695,  94.13151132,\n",
       "        110.37767366],\n",
       "       [ 97.8996422 , 100.44107877, 102.10045   ,  97.12843232,\n",
       "        111.57080714],\n",
       "       [ 96.8746811 , 102.18726253, 101.47605244,  99.08489272,\n",
       "        109.804666  ],\n",
       "       [ 98.01210272, 104.08450026, 103.02374344,  99.29879402,\n",
       "        112.20573211],\n",
       "       [102.20072585, 103.63568373,  99.35063902,  97.31538797,\n",
       "        113.92537502],\n",
       "       [103.41915793, 101.56757158,  97.0290121 ,  98.20803787,\n",
       "        114.09220243]])"
      ]
     },
     "execution_count": 41,
     "metadata": {},
     "output_type": "execute_result"
    }
   ],
   "source": [
    "S[:, :5]"
   ]
  },
  {
   "cell_type": "code",
   "execution_count": 42,
   "id": "5e64ec08",
   "metadata": {},
   "outputs": [
    {
     "data": {
      "image/png": "[encoded data removed]",
      "text/plain": [
       "<Figure size 432x288 with 1 Axes>"
      ]
     },
     "metadata": {
      "needs_background": "light"
     },
     "output_type": "display_data"
    }
   ],
   "source": [
    "plt.plot(S[:,:100]);"
   ]
  },
  {
   "cell_type": "code",
   "execution_count": 43,
   "id": "4e42187f",
   "metadata": {},
   "outputs": [
    {
     "data": {
      "image/png": "[encoded data removed]",
      "text/plain": [
       "<Figure size 432x288 with 1 Axes>"
      ]
     },
     "metadata": {
      "needs_background": "light"
     },
     "output_type": "display_data"
    }
   ],
   "source": [
    "plt.plot(S[:,[5,500,5000]]);"
   ]
  },
  {
   "cell_type": "code",
   "execution_count": 44,
   "id": "15af8b54",
   "metadata": {},
   "outputs": [
    {
     "data": {
      "text/plain": [
       "array([0, 1, 2, 3, 4, 5, 6, 7, 8, 9])"
      ]
     },
     "execution_count": 44,
     "metadata": {},
     "output_type": "execute_result"
    }
   ],
   "source": [
    "a = np.arange(10)\n",
    "a"
   ]
  },
  {
   "cell_type": "code",
   "execution_count": 45,
   "id": "dea40816",
   "metadata": {},
   "outputs": [
    {
     "data": {
      "text/plain": [
       "array([1, 1, 1, 1, 1, 1, 1, 1, 1])"
      ]
     },
     "execution_count": 45,
     "metadata": {},
     "output_type": "execute_result"
    }
   ],
   "source": [
    "np.diff(a)"
   ]
  },
  {
   "cell_type": "code",
   "execution_count": 79,
   "id": "b38d112d",
   "metadata": {},
   "outputs": [],
   "source": [
    "import pandas_datareader as pdr\n",
    "import pandas as pd"
   ]
  },
  {
   "cell_type": "code",
   "execution_count": 48,
   "id": "292ce824",
   "metadata": {},
   "outputs": [],
   "source": [
    "goog = pdr.get_data_yahoo(\"GOOG\")"
   ]
  },
  {
   "cell_type": "code",
   "execution_count": 70,
   "id": "320001f3",
   "metadata": {},
   "outputs": [
    {
     "data": {
      "text/html": [
       "<div>\n",
       "<style scoped>\n",
       "    .dataframe tbody tr th:only-of-type {\n",
       "        vertical-align: middle;\n",
       "    }\n",
       "\n",
       "    .dataframe tbody tr th {\n",
       "        vertical-align: top;\n",
       "    }\n",
       "\n",
       "    .dataframe thead th {\n",
       "        text-align: right;\n",
       "    }\n",
       "</style>\n",
       "<table border=\"1\" class=\"dataframe\">\n",
       "  <thead>\n",
       "    <tr style=\"text-align: right;\">\n",
       "      <th></th>\n",
       "      <th>High</th>\n",
       "      <th>Low</th>\n",
       "      <th>Open</th>\n",
       "      <th>Close</th>\n",
       "      <th>Volume</th>\n",
       "      <th>Adj Close</th>\n",
       "    </tr>\n",
       "    <tr>\n",
       "      <th>Date</th>\n",
       "      <th></th>\n",
       "      <th></th>\n",
       "      <th></th>\n",
       "      <th></th>\n",
       "      <th></th>\n",
       "      <th></th>\n",
       "    </tr>\n",
       "  </thead>\n",
       "  <tbody>\n",
       "    <tr>\n",
       "      <th>2016-08-10</th>\n",
       "      <td>786.81</td>\n",
       "      <td>782.78</td>\n",
       "      <td>783.75</td>\n",
       "      <td>784.68</td>\n",
       "      <td>786400</td>\n",
       "      <td>784.68</td>\n",
       "    </tr>\n",
       "    <tr>\n",
       "      <th>2016-08-11</th>\n",
       "      <td>789.75</td>\n",
       "      <td>782.97</td>\n",
       "      <td>785.00</td>\n",
       "      <td>784.85</td>\n",
       "      <td>975100</td>\n",
       "      <td>784.85</td>\n",
       "    </tr>\n",
       "    <tr>\n",
       "      <th>2016-08-12</th>\n",
       "      <td>783.40</td>\n",
       "      <td>780.40</td>\n",
       "      <td>781.50</td>\n",
       "      <td>783.22</td>\n",
       "      <td>740500</td>\n",
       "      <td>783.22</td>\n",
       "    </tr>\n",
       "    <tr>\n",
       "      <th>2016-08-15</th>\n",
       "      <td>787.49</td>\n",
       "      <td>780.11</td>\n",
       "      <td>783.75</td>\n",
       "      <td>782.44</td>\n",
       "      <td>938200</td>\n",
       "      <td>782.44</td>\n",
       "    </tr>\n",
       "    <tr>\n",
       "      <th>2016-08-16</th>\n",
       "      <td>780.98</td>\n",
       "      <td>773.44</td>\n",
       "      <td>780.30</td>\n",
       "      <td>777.14</td>\n",
       "      <td>1028000</td>\n",
       "      <td>777.14</td>\n",
       "    </tr>\n",
       "    <tr>\n",
       "      <th>2016-08-17</th>\n",
       "      <td>780.81</td>\n",
       "      <td>773.53</td>\n",
       "      <td>777.32</td>\n",
       "      <td>779.91</td>\n",
       "      <td>924200</td>\n",
       "      <td>779.91</td>\n",
       "    </tr>\n",
       "    <tr>\n",
       "      <th>2016-08-18</th>\n",
       "      <td>782.86</td>\n",
       "      <td>777.00</td>\n",
       "      <td>780.01</td>\n",
       "      <td>777.50</td>\n",
       "      <td>719400</td>\n",
       "      <td>777.50</td>\n",
       "    </tr>\n",
       "    <tr>\n",
       "      <th>2016-08-19</th>\n",
       "      <td>777.10</td>\n",
       "      <td>773.13</td>\n",
       "      <td>775.00</td>\n",
       "      <td>775.42</td>\n",
       "      <td>861500</td>\n",
       "      <td>775.42</td>\n",
       "    </tr>\n",
       "    <tr>\n",
       "      <th>2016-08-22</th>\n",
       "      <td>774.54</td>\n",
       "      <td>770.05</td>\n",
       "      <td>773.27</td>\n",
       "      <td>772.15</td>\n",
       "      <td>951400</td>\n",
       "      <td>772.15</td>\n",
       "    </tr>\n",
       "    <tr>\n",
       "      <th>2016-08-23</th>\n",
       "      <td>776.44</td>\n",
       "      <td>771.78</td>\n",
       "      <td>775.48</td>\n",
       "      <td>772.08</td>\n",
       "      <td>928200</td>\n",
       "      <td>772.08</td>\n",
       "    </tr>\n",
       "  </tbody>\n",
       "</table>\n",
       "</div>"
      ],
      "text/plain": [
       "              High     Low    Open   Close   Volume  Adj Close\n",
       "Date                                                          \n",
       "2016-08-10  786.81  782.78  783.75  784.68   786400     784.68\n",
       "2016-08-11  789.75  782.97  785.00  784.85   975100     784.85\n",
       "2016-08-12  783.40  780.40  781.50  783.22   740500     783.22\n",
       "2016-08-15  787.49  780.11  783.75  782.44   938200     782.44\n",
       "2016-08-16  780.98  773.44  780.30  777.14  1028000     777.14\n",
       "2016-08-17  780.81  773.53  777.32  779.91   924200     779.91\n",
       "2016-08-18  782.86  777.00  780.01  777.50   719400     777.50\n",
       "2016-08-19  777.10  773.13  775.00  775.42   861500     775.42\n",
       "2016-08-22  774.54  770.05  773.27  772.15   951400     772.15\n",
       "2016-08-23  776.44  771.78  775.48  772.08   928200     772.08"
      ]
     },
     "execution_count": 70,
     "metadata": {},
     "output_type": "execute_result"
    }
   ],
   "source": [
    "goog = round(goog, 2)\n",
    "goog.head(10)"
   ]
  },
  {
   "cell_type": "code",
   "execution_count": 80,
   "id": "cdc1825c",
   "metadata": {},
   "outputs": [
    {
     "data": {
      "text/html": [
       "<div>\n",
       "<style scoped>\n",
       "    .dataframe tbody tr th:only-of-type {\n",
       "        vertical-align: middle;\n",
       "    }\n",
       "\n",
       "    .dataframe tbody tr th {\n",
       "        vertical-align: top;\n",
       "    }\n",
       "\n",
       "    .dataframe thead th {\n",
       "        text-align: right;\n",
       "    }\n",
       "</style>\n",
       "<table border=\"1\" class=\"dataframe\">\n",
       "  <thead>\n",
       "    <tr style=\"text-align: right;\">\n",
       "      <th></th>\n",
       "      <th>Close</th>\n",
       "    </tr>\n",
       "    <tr>\n",
       "      <th>Date</th>\n",
       "      <th></th>\n",
       "    </tr>\n",
       "  </thead>\n",
       "  <tbody>\n",
       "    <tr>\n",
       "      <th>2016-08-10</th>\n",
       "      <td>784.68</td>\n",
       "    </tr>\n",
       "    <tr>\n",
       "      <th>2016-08-11</th>\n",
       "      <td>784.85</td>\n",
       "    </tr>\n",
       "    <tr>\n",
       "      <th>2016-08-12</th>\n",
       "      <td>783.22</td>\n",
       "    </tr>\n",
       "    <tr>\n",
       "      <th>2016-08-15</th>\n",
       "      <td>782.44</td>\n",
       "    </tr>\n",
       "    <tr>\n",
       "      <th>2016-08-16</th>\n",
       "      <td>777.14</td>\n",
       "    </tr>\n",
       "    <tr>\n",
       "      <th>2016-08-17</th>\n",
       "      <td>779.91</td>\n",
       "    </tr>\n",
       "    <tr>\n",
       "      <th>2016-08-18</th>\n",
       "      <td>777.50</td>\n",
       "    </tr>\n",
       "    <tr>\n",
       "      <th>2016-08-19</th>\n",
       "      <td>775.42</td>\n",
       "    </tr>\n",
       "    <tr>\n",
       "      <th>2016-08-22</th>\n",
       "      <td>772.15</td>\n",
       "    </tr>\n",
       "    <tr>\n",
       "      <th>2016-08-23</th>\n",
       "      <td>772.08</td>\n",
       "    </tr>\n",
       "  </tbody>\n",
       "</table>\n",
       "</div>"
      ],
      "text/plain": [
       "             Close\n",
       "Date              \n",
       "2016-08-10  784.68\n",
       "2016-08-11  784.85\n",
       "2016-08-12  783.22\n",
       "2016-08-15  782.44\n",
       "2016-08-16  777.14\n",
       "2016-08-17  779.91\n",
       "2016-08-18  777.50\n",
       "2016-08-19  775.42\n",
       "2016-08-22  772.15\n",
       "2016-08-23  772.08"
      ]
     },
     "execution_count": 80,
     "metadata": {},
     "output_type": "execute_result"
    }
   ],
   "source": [
    "pd.DataFrame(goog['Close'].iloc[:10])"
   ]
  },
  {
   "cell_type": "code",
   "execution_count": 59,
   "id": "e5e99763",
   "metadata": {},
   "outputs": [
    {
     "name": "stdout",
     "output_type": "stream",
     "text": [
      "<class 'pandas.core.frame.DataFrame'>\n",
      "DatetimeIndex: 1258 entries, 2016-08-10 to 2021-08-09\n",
      "Data columns (total 6 columns):\n",
      " #   Column     Non-Null Count  Dtype  \n",
      "---  ------     --------------  -----  \n",
      " 0   High       1258 non-null   float64\n",
      " 1   Low        1258 non-null   float64\n",
      " 2   Open       1258 non-null   float64\n",
      " 3   Close      1258 non-null   float64\n",
      " 4   Volume     1258 non-null   int64  \n",
      " 5   Adj Close  1258 non-null   float64\n",
      "dtypes: float64(5), int64(1)\n",
      "memory usage: 68.8 KB\n"
     ]
    }
   ],
   "source": [
    "goog.info()"
   ]
  },
  {
   "cell_type": "code",
   "execution_count": 60,
   "id": "5a93a5be",
   "metadata": {},
   "outputs": [
    {
     "data": {
      "text/plain": [
       "Index(['High', 'Low', 'Open', 'Close', 'Volume', 'Adj Close'], dtype='object')"
      ]
     },
     "execution_count": 60,
     "metadata": {},
     "output_type": "execute_result"
    }
   ],
   "source": [
    "goog.columns"
   ]
  },
  {
   "cell_type": "code",
   "execution_count": 61,
   "id": "a7a364b0",
   "metadata": {},
   "outputs": [
    {
     "data": {
      "text/plain": [
       "DatetimeIndex(['2016-08-10', '2016-08-11', '2016-08-12', '2016-08-15',\n",
       "               '2016-08-16', '2016-08-17', '2016-08-18', '2016-08-19',\n",
       "               '2016-08-22', '2016-08-23',\n",
       "               ...\n",
       "               '2021-07-27', '2021-07-28', '2021-07-29', '2021-07-30',\n",
       "               '2021-08-02', '2021-08-03', '2021-08-04', '2021-08-05',\n",
       "               '2021-08-06', '2021-08-09'],\n",
       "              dtype='datetime64[ns]', name='Date', length=1258, freq=None)"
      ]
     },
     "execution_count": 61,
     "metadata": {},
     "output_type": "execute_result"
    }
   ],
   "source": [
    "goog.index"
   ]
  },
  {
   "cell_type": "code",
   "execution_count": 65,
   "id": "7817466d",
   "metadata": {},
   "outputs": [
    {
     "data": {
      "text/plain": [
       "High         1.288038e+03\n",
       "Low          1.263984e+03\n",
       "Open         1.275452e+03\n",
       "Close        1.276616e+03\n",
       "Volume       1.591922e+06\n",
       "Adj Close    1.276616e+03\n",
       "dtype: float64"
      ]
     },
     "execution_count": 65,
     "metadata": {},
     "output_type": "execute_result"
    }
   ],
   "source": [
    "goog.mean()"
   ]
  },
  {
   "cell_type": "code",
   "execution_count": 66,
   "id": "35b8f9ac",
   "metadata": {},
   "outputs": [
    {
     "data": {
      "text/html": [
       "<div>\n",
       "<style scoped>\n",
       "    .dataframe tbody tr th:only-of-type {\n",
       "        vertical-align: middle;\n",
       "    }\n",
       "\n",
       "    .dataframe tbody tr th {\n",
       "        vertical-align: top;\n",
       "    }\n",
       "\n",
       "    .dataframe thead th {\n",
       "        text-align: right;\n",
       "    }\n",
       "</style>\n",
       "<table border=\"1\" class=\"dataframe\">\n",
       "  <thead>\n",
       "    <tr style=\"text-align: right;\">\n",
       "      <th></th>\n",
       "      <th>High</th>\n",
       "      <th>Low</th>\n",
       "      <th>Open</th>\n",
       "      <th>Close</th>\n",
       "      <th>Volume</th>\n",
       "      <th>Adj Close</th>\n",
       "    </tr>\n",
       "  </thead>\n",
       "  <tbody>\n",
       "    <tr>\n",
       "      <th>count</th>\n",
       "      <td>1258.000000</td>\n",
       "      <td>1258.000000</td>\n",
       "      <td>1258.000000</td>\n",
       "      <td>1258.000000</td>\n",
       "      <td>1.258000e+03</td>\n",
       "      <td>1258.000000</td>\n",
       "    </tr>\n",
       "    <tr>\n",
       "      <th>mean</th>\n",
       "      <td>1288.038350</td>\n",
       "      <td>1263.984154</td>\n",
       "      <td>1275.451750</td>\n",
       "      <td>1276.616282</td>\n",
       "      <td>1.591922e+06</td>\n",
       "      <td>1276.616282</td>\n",
       "    </tr>\n",
       "    <tr>\n",
       "      <th>std</th>\n",
       "      <td>449.241600</td>\n",
       "      <td>441.136139</td>\n",
       "      <td>444.563210</td>\n",
       "      <td>445.641447</td>\n",
       "      <td>6.977586e+05</td>\n",
       "      <td>445.641447</td>\n",
       "    </tr>\n",
       "    <tr>\n",
       "      <th>min</th>\n",
       "      <td>754.000000</td>\n",
       "      <td>727.539978</td>\n",
       "      <td>744.590027</td>\n",
       "      <td>736.080017</td>\n",
       "      <td>3.468000e+05</td>\n",
       "      <td>736.080017</td>\n",
       "    </tr>\n",
       "    <tr>\n",
       "      <th>25%</th>\n",
       "      <td>1024.037506</td>\n",
       "      <td>993.267502</td>\n",
       "      <td>1008.642517</td>\n",
       "      <td>1006.612473</td>\n",
       "      <td>1.164075e+06</td>\n",
       "      <td>1006.612473</td>\n",
       "    </tr>\n",
       "    <tr>\n",
       "      <th>50%</th>\n",
       "      <td>1160.940002</td>\n",
       "      <td>1139.489990</td>\n",
       "      <td>1147.774963</td>\n",
       "      <td>1152.289978</td>\n",
       "      <td>1.409550e+06</td>\n",
       "      <td>1152.289978</td>\n",
       "    </tr>\n",
       "    <tr>\n",
       "      <th>75%</th>\n",
       "      <td>1443.531738</td>\n",
       "      <td>1418.709961</td>\n",
       "      <td>1432.320007</td>\n",
       "      <td>1433.417511</td>\n",
       "      <td>1.814975e+06</td>\n",
       "      <td>1433.417511</td>\n",
       "    </tr>\n",
       "    <tr>\n",
       "      <th>max</th>\n",
       "      <td>2800.219971</td>\n",
       "      <td>2753.020020</td>\n",
       "      <td>2800.219971</td>\n",
       "      <td>2792.889893</td>\n",
       "      <td>6.207000e+06</td>\n",
       "      <td>2792.889893</td>\n",
       "    </tr>\n",
       "  </tbody>\n",
       "</table>\n",
       "</div>"
      ],
      "text/plain": [
       "              High          Low         Open        Close        Volume  \\\n",
       "count  1258.000000  1258.000000  1258.000000  1258.000000  1.258000e+03   \n",
       "mean   1288.038350  1263.984154  1275.451750  1276.616282  1.591922e+06   \n",
       "std     449.241600   441.136139   444.563210   445.641447  6.977586e+05   \n",
       "min     754.000000   727.539978   744.590027   736.080017  3.468000e+05   \n",
       "25%    1024.037506   993.267502  1008.642517  1006.612473  1.164075e+06   \n",
       "50%    1160.940002  1139.489990  1147.774963  1152.289978  1.409550e+06   \n",
       "75%    1443.531738  1418.709961  1432.320007  1433.417511  1.814975e+06   \n",
       "max    2800.219971  2753.020020  2800.219971  2792.889893  6.207000e+06   \n",
       "\n",
       "         Adj Close  \n",
       "count  1258.000000  \n",
       "mean   1276.616282  \n",
       "std     445.641447  \n",
       "min     736.080017  \n",
       "25%    1006.612473  \n",
       "50%    1152.289978  \n",
       "75%    1433.417511  \n",
       "max    2792.889893  "
      ]
     },
     "execution_count": 66,
     "metadata": {},
     "output_type": "execute_result"
    }
   ],
   "source": [
    "goog.describe()"
   ]
  },
  {
   "cell_type": "code",
   "execution_count": 67,
   "id": "0ae5dbad",
   "metadata": {},
   "outputs": [
    {
     "data": {
      "text/html": [
       "<div>\n",
       "<style scoped>\n",
       "    .dataframe tbody tr th:only-of-type {\n",
       "        vertical-align: middle;\n",
       "    }\n",
       "\n",
       "    .dataframe tbody tr th {\n",
       "        vertical-align: top;\n",
       "    }\n",
       "\n",
       "    .dataframe thead th {\n",
       "        text-align: right;\n",
       "    }\n",
       "</style>\n",
       "<table border=\"1\" class=\"dataframe\">\n",
       "  <thead>\n",
       "    <tr style=\"text-align: right;\">\n",
       "      <th></th>\n",
       "      <th>Open</th>\n",
       "      <th>Low</th>\n",
       "      <th>High</th>\n",
       "      <th>Close</th>\n",
       "    </tr>\n",
       "  </thead>\n",
       "  <tbody>\n",
       "    <tr>\n",
       "      <th>count</th>\n",
       "      <td>1258.000000</td>\n",
       "      <td>1258.000000</td>\n",
       "      <td>1258.000000</td>\n",
       "      <td>1258.000000</td>\n",
       "    </tr>\n",
       "    <tr>\n",
       "      <th>mean</th>\n",
       "      <td>1275.451750</td>\n",
       "      <td>1263.984154</td>\n",
       "      <td>1288.038350</td>\n",
       "      <td>1276.616282</td>\n",
       "    </tr>\n",
       "    <tr>\n",
       "      <th>std</th>\n",
       "      <td>444.563210</td>\n",
       "      <td>441.136139</td>\n",
       "      <td>449.241600</td>\n",
       "      <td>445.641447</td>\n",
       "    </tr>\n",
       "    <tr>\n",
       "      <th>min</th>\n",
       "      <td>744.590027</td>\n",
       "      <td>727.539978</td>\n",
       "      <td>754.000000</td>\n",
       "      <td>736.080017</td>\n",
       "    </tr>\n",
       "    <tr>\n",
       "      <th>25%</th>\n",
       "      <td>1008.642517</td>\n",
       "      <td>993.267502</td>\n",
       "      <td>1024.037506</td>\n",
       "      <td>1006.612473</td>\n",
       "    </tr>\n",
       "    <tr>\n",
       "      <th>50%</th>\n",
       "      <td>1147.774963</td>\n",
       "      <td>1139.489990</td>\n",
       "      <td>1160.940002</td>\n",
       "      <td>1152.289978</td>\n",
       "    </tr>\n",
       "    <tr>\n",
       "      <th>75%</th>\n",
       "      <td>1432.320007</td>\n",
       "      <td>1418.709961</td>\n",
       "      <td>1443.531738</td>\n",
       "      <td>1433.417511</td>\n",
       "    </tr>\n",
       "    <tr>\n",
       "      <th>max</th>\n",
       "      <td>2800.219971</td>\n",
       "      <td>2753.020020</td>\n",
       "      <td>2800.219971</td>\n",
       "      <td>2792.889893</td>\n",
       "    </tr>\n",
       "  </tbody>\n",
       "</table>\n",
       "</div>"
      ],
      "text/plain": [
       "              Open          Low         High        Close\n",
       "count  1258.000000  1258.000000  1258.000000  1258.000000\n",
       "mean   1275.451750  1263.984154  1288.038350  1276.616282\n",
       "std     444.563210   441.136139   449.241600   445.641447\n",
       "min     744.590027   727.539978   754.000000   736.080017\n",
       "25%    1008.642517   993.267502  1024.037506  1006.612473\n",
       "50%    1147.774963  1139.489990  1160.940002  1152.289978\n",
       "75%    1432.320007  1418.709961  1443.531738  1433.417511\n",
       "max    2800.219971  2753.020020  2800.219971  2792.889893"
      ]
     },
     "execution_count": 67,
     "metadata": {},
     "output_type": "execute_result"
    }
   ],
   "source": [
    "goog[['Open', 'Low', 'High', 'Close']].describe()"
   ]
  },
  {
   "cell_type": "code",
   "execution_count": 68,
   "id": "8144ef4a",
   "metadata": {},
   "outputs": [
    {
     "data": {
      "text/plain": [
       "Date\n",
       "2016-08-10          NaN\n",
       "2016-08-11     0.169983\n",
       "2016-08-12    -1.630005\n",
       "2016-08-15    -0.779968\n",
       "2016-08-16    -5.299988\n",
       "                ...    \n",
       "2021-08-03     5.810059\n",
       "2021-08-04    -5.030029\n",
       "2021-08-05    18.229980\n",
       "2021-08-06     1.919922\n",
       "2021-08-09    19.320068\n",
       "Name: Close, Length: 1258, dtype: float64"
      ]
     },
     "execution_count": 68,
     "metadata": {},
     "output_type": "execute_result"
    }
   ],
   "source": [
    "# best to use square bracket notation\n",
    "goog['Close'].diff()"
   ]
  },
  {
   "cell_type": "code",
   "execution_count": 77,
   "id": "711ed6d6",
   "metadata": {},
   "outputs": [
    {
     "data": {
      "text/plain": [
       "Date\n",
       "2016-08-10         NaN\n",
       "2016-08-11    0.000217\n",
       "2016-08-12   -0.002079\n",
       "2016-08-15   -0.000996\n",
       "2016-08-16   -0.006797\n",
       "                ...   \n",
       "2021-08-03    0.002134\n",
       "2021-08-04   -0.001847\n",
       "2021-08-05    0.006678\n",
       "2021-08-06    0.000701\n",
       "2021-08-09    0.007025\n",
       "Name: Close, Length: 1258, dtype: float64"
      ]
     },
     "execution_count": 77,
     "metadata": {},
     "output_type": "execute_result"
    }
   ],
   "source": [
    "# dot notation is an alternative to square bracket; not fully implemented\n",
    "np.log(goog.Close).diff()"
   ]
  },
  {
   "cell_type": "code",
   "execution_count": null,
   "id": "f40debe2",
   "metadata": {},
   "outputs": [],
   "source": []
  }
 ],
 "metadata": {
  "kernelspec": {
   "display_name": "Python 3",
   "language": "python",
   "name": "python3"
  },
  "language_info": {
   "codemirror_mode": {
    "name": "ipython",
    "version": 3
   },
   "file_extension": ".py",
   "mimetype": "text/x-python",
   "name": "python",
   "nbconvert_exporter": "python",
   "pygments_lexer": "ipython3",
   "version": "3.8.8"
  }
 },
 "nbformat": 4,
 "nbformat_minor": 5
}
