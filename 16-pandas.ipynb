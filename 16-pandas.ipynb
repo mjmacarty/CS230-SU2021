{
 "cells": [
  {
   "cell_type": "markdown",
   "id": "48ccbec9",
   "metadata": {},
   "source": [
    "# Working with DataFrames & Series - indexes"
   ]
  },
  {
   "cell_type": "code",
   "execution_count": 1,
   "id": "782501e3",
   "metadata": {},
   "outputs": [],
   "source": [
    "import numpy as np\n",
    "import os\n",
    "import pandas as pd\n",
    "import matplotlib.pyplot as plt"
   ]
  },
  {
   "cell_type": "code",
   "execution_count": 2,
   "id": "d1480aa4",
   "metadata": {},
   "outputs": [
    {
     "data": {
      "text/html": [
       "<div>\n",
       "<style scoped>\n",
       "    .dataframe tbody tr th:only-of-type {\n",
       "        vertical-align: middle;\n",
       "    }\n",
       "\n",
       "    .dataframe tbody tr th {\n",
       "        vertical-align: top;\n",
       "    }\n",
       "\n",
       "    .dataframe thead th {\n",
       "        text-align: right;\n",
       "    }\n",
       "</style>\n",
       "<table border=\"1\" class=\"dataframe\">\n",
       "  <thead>\n",
       "    <tr style=\"text-align: right;\">\n",
       "      <th></th>\n",
       "      <th>title</th>\n",
       "      <th>year</th>\n",
       "    </tr>\n",
       "  </thead>\n",
       "  <tbody>\n",
       "    <tr>\n",
       "      <th>0</th>\n",
       "      <td>Ankara ekspresi</td>\n",
       "      <td>1952</td>\n",
       "    </tr>\n",
       "    <tr>\n",
       "      <th>1</th>\n",
       "      <td>Ans Vaterland, ans teure</td>\n",
       "      <td>1915</td>\n",
       "    </tr>\n",
       "    <tr>\n",
       "      <th>2</th>\n",
       "      <td>Miss Mohini</td>\n",
       "      <td>2002</td>\n",
       "    </tr>\n",
       "    <tr>\n",
       "      <th>3</th>\n",
       "      <td>La vera madre</td>\n",
       "      <td>1999</td>\n",
       "    </tr>\n",
       "    <tr>\n",
       "      <th>4</th>\n",
       "      <td>O Amerikanos</td>\n",
       "      <td>1993</td>\n",
       "    </tr>\n",
       "  </tbody>\n",
       "</table>\n",
       "</div>"
      ],
      "text/plain": [
       "                      title  year\n",
       "0           Ankara ekspresi  1952\n",
       "1  Ans Vaterland, ans teure  1915\n",
       "2               Miss Mohini  2002\n",
       "3             La vera madre  1999\n",
       "4              O Amerikanos  1993"
      ]
     },
     "execution_count": 2,
     "metadata": {},
     "output_type": "execute_result"
    }
   ],
   "source": [
    "os.chdir(\"C:\\\\Users\\\\Matt Macarty\\\\Downloads\\\\movies\")\n",
    "titles = pd.read_csv('titles.csv')\n",
    "titles.head()"
   ]
  },
  {
   "cell_type": "code",
   "execution_count": 4,
   "id": "70e8c319",
   "metadata": {},
   "outputs": [
    {
     "name": "stdout",
     "output_type": "stream",
     "text": [
      "Wall time: 12.3 s\n"
     ]
    }
   ],
   "source": [
    "%%time\n",
    "cast = pd.read_csv('cast.csv')"
   ]
  },
  {
   "cell_type": "code",
   "execution_count": 5,
   "id": "6cd2f5ac",
   "metadata": {},
   "outputs": [
    {
     "data": {
      "text/plain": [
       "3442902"
      ]
     },
     "execution_count": 5,
     "metadata": {},
     "output_type": "execute_result"
    }
   ],
   "source": [
    "len(cast)"
   ]
  },
  {
   "cell_type": "code",
   "execution_count": 6,
   "id": "b6881560",
   "metadata": {},
   "outputs": [
    {
     "name": "stdout",
     "output_type": "stream",
     "text": [
      "<class 'pandas.core.frame.DataFrame'>\n",
      "RangeIndex: 3442902 entries, 0 to 3442901\n",
      "Data columns (total 6 columns):\n",
      " #   Column     Dtype  \n",
      "---  ------     -----  \n",
      " 0   title      object \n",
      " 1   year       int64  \n",
      " 2   name       object \n",
      " 3   type       object \n",
      " 4   character  object \n",
      " 5   n          float64\n",
      "dtypes: float64(1), int64(1), object(4)\n",
      "memory usage: 157.6+ MB\n"
     ]
    }
   ],
   "source": [
    "cast.info()"
   ]
  },
  {
   "cell_type": "code",
   "execution_count": 7,
   "id": "96039cee",
   "metadata": {},
   "outputs": [
    {
     "data": {
      "text/plain": [
       "title        When the Man Went South\n",
       "year                            2014\n",
       "name              Taipaleti 'Atu'ake\n",
       "type                           actor\n",
       "character     Two Palms - Ua'i Paame\n",
       "n                                8.0\n",
       "Name: 10, dtype: object"
      ]
     },
     "execution_count": 7,
     "metadata": {},
     "output_type": "execute_result"
    }
   ],
   "source": [
    "cast.iloc[10]"
   ]
  },
  {
   "cell_type": "code",
   "execution_count": 8,
   "id": "734b3eb8",
   "metadata": {},
   "outputs": [
    {
     "data": {
      "text/plain": [
       "title        When the Man Went South\n",
       "year                            2014\n",
       "name              Taipaleti 'Atu'ake\n",
       "type                           actor\n",
       "character     Two Palms - Ua'i Paame\n",
       "n                                8.0\n",
       "Name: 10, dtype: object"
      ]
     },
     "execution_count": 8,
     "metadata": {},
     "output_type": "execute_result"
    }
   ],
   "source": [
    "cast.loc[10]"
   ]
  },
  {
   "cell_type": "code",
   "execution_count": 10,
   "id": "acc30d88",
   "metadata": {},
   "outputs": [
    {
     "name": "stdout",
     "output_type": "stream",
     "text": [
      "Wall time: 569 ms\n"
     ]
    },
    {
     "data": {
      "text/html": [
       "<div>\n",
       "<style scoped>\n",
       "    .dataframe tbody tr th:only-of-type {\n",
       "        vertical-align: middle;\n",
       "    }\n",
       "\n",
       "    .dataframe tbody tr th {\n",
       "        vertical-align: top;\n",
       "    }\n",
       "\n",
       "    .dataframe thead th {\n",
       "        text-align: right;\n",
       "    }\n",
       "</style>\n",
       "<table border=\"1\" class=\"dataframe\">\n",
       "  <thead>\n",
       "    <tr style=\"text-align: right;\">\n",
       "      <th></th>\n",
       "      <th>title</th>\n",
       "      <th>year</th>\n",
       "      <th>name</th>\n",
       "      <th>type</th>\n",
       "      <th>character</th>\n",
       "      <th>n</th>\n",
       "    </tr>\n",
       "  </thead>\n",
       "  <tbody>\n",
       "    <tr>\n",
       "      <th>238747</th>\n",
       "      <td>Sleuth</td>\n",
       "      <td>2007</td>\n",
       "      <td>Kenneth Branagh</td>\n",
       "      <td>actor</td>\n",
       "      <td>Other Man on T.V.</td>\n",
       "      <td>NaN</td>\n",
       "    </tr>\n",
       "    <tr>\n",
       "      <th>299291</th>\n",
       "      <td>Sleuth</td>\n",
       "      <td>1972</td>\n",
       "      <td>Michael Caine</td>\n",
       "      <td>actor</td>\n",
       "      <td>Milo Tindle</td>\n",
       "      <td>2.0</td>\n",
       "    </tr>\n",
       "    <tr>\n",
       "      <th>299292</th>\n",
       "      <td>Sleuth</td>\n",
       "      <td>2007</td>\n",
       "      <td>Michael Caine</td>\n",
       "      <td>actor</td>\n",
       "      <td>Andrew</td>\n",
       "      <td>1.0</td>\n",
       "    </tr>\n",
       "    <tr>\n",
       "      <th>342151</th>\n",
       "      <td>Sleuth</td>\n",
       "      <td>1972</td>\n",
       "      <td>Alec Cawthorne</td>\n",
       "      <td>actor</td>\n",
       "      <td>Inspector Doppler</td>\n",
       "      <td>3.0</td>\n",
       "    </tr>\n",
       "    <tr>\n",
       "      <th>342152</th>\n",
       "      <td>Sleuth</td>\n",
       "      <td>2007</td>\n",
       "      <td>Alec (II) Cawthorne</td>\n",
       "      <td>actor</td>\n",
       "      <td>Inspector Doppler</td>\n",
       "      <td>NaN</td>\n",
       "    </tr>\n",
       "    <tr>\n",
       "      <th>1183659</th>\n",
       "      <td>Sleuth</td>\n",
       "      <td>2007</td>\n",
       "      <td>Jude Law</td>\n",
       "      <td>actor</td>\n",
       "      <td>Milo</td>\n",
       "      <td>2.0</td>\n",
       "    </tr>\n",
       "    <tr>\n",
       "      <th>1325945</th>\n",
       "      <td>Sleuth</td>\n",
       "      <td>1972</td>\n",
       "      <td>Teddy Martin</td>\n",
       "      <td>actor</td>\n",
       "      <td>Police Constable Higgs</td>\n",
       "      <td>6.0</td>\n",
       "    </tr>\n",
       "    <tr>\n",
       "      <th>1341313</th>\n",
       "      <td>Sleuth</td>\n",
       "      <td>1972</td>\n",
       "      <td>John (II) Matthews</td>\n",
       "      <td>actor</td>\n",
       "      <td>Detective Sergeant Tarrant</td>\n",
       "      <td>4.0</td>\n",
       "    </tr>\n",
       "    <tr>\n",
       "      <th>1560814</th>\n",
       "      <td>Sleuth</td>\n",
       "      <td>1972</td>\n",
       "      <td>Laurence Olivier</td>\n",
       "      <td>actor</td>\n",
       "      <td>Andrew Wyke</td>\n",
       "      <td>1.0</td>\n",
       "    </tr>\n",
       "    <tr>\n",
       "      <th>1652936</th>\n",
       "      <td>Sleuth</td>\n",
       "      <td>2007</td>\n",
       "      <td>Harold Pinter</td>\n",
       "      <td>actor</td>\n",
       "      <td>Man on T.V.</td>\n",
       "      <td>3.0</td>\n",
       "    </tr>\n",
       "    <tr>\n",
       "      <th>2490140</th>\n",
       "      <td>Sleuth</td>\n",
       "      <td>2007</td>\n",
       "      <td>Eve (II) Channing</td>\n",
       "      <td>actress</td>\n",
       "      <td>Marguerite Wyke</td>\n",
       "      <td>NaN</td>\n",
       "    </tr>\n",
       "    <tr>\n",
       "      <th>2490141</th>\n",
       "      <td>Sleuth</td>\n",
       "      <td>1972</td>\n",
       "      <td>Eve (III) Channing</td>\n",
       "      <td>actress</td>\n",
       "      <td>Marguerite Wyke</td>\n",
       "      <td>5.0</td>\n",
       "    </tr>\n",
       "    <tr>\n",
       "      <th>3069393</th>\n",
       "      <td>Sleuth</td>\n",
       "      <td>2007</td>\n",
       "      <td>Carmel O'Sullivan</td>\n",
       "      <td>actress</td>\n",
       "      <td>Maggie</td>\n",
       "      <td>NaN</td>\n",
       "    </tr>\n",
       "  </tbody>\n",
       "</table>\n",
       "</div>"
      ],
      "text/plain": [
       "          title  year                 name     type  \\\n",
       "238747   Sleuth  2007      Kenneth Branagh    actor   \n",
       "299291   Sleuth  1972        Michael Caine    actor   \n",
       "299292   Sleuth  2007        Michael Caine    actor   \n",
       "342151   Sleuth  1972       Alec Cawthorne    actor   \n",
       "342152   Sleuth  2007  Alec (II) Cawthorne    actor   \n",
       "1183659  Sleuth  2007             Jude Law    actor   \n",
       "1325945  Sleuth  1972         Teddy Martin    actor   \n",
       "1341313  Sleuth  1972   John (II) Matthews    actor   \n",
       "1560814  Sleuth  1972     Laurence Olivier    actor   \n",
       "1652936  Sleuth  2007        Harold Pinter    actor   \n",
       "2490140  Sleuth  2007    Eve (II) Channing  actress   \n",
       "2490141  Sleuth  1972   Eve (III) Channing  actress   \n",
       "3069393  Sleuth  2007    Carmel O'Sullivan  actress   \n",
       "\n",
       "                          character    n  \n",
       "238747            Other Man on T.V.  NaN  \n",
       "299291                  Milo Tindle  2.0  \n",
       "299292                       Andrew  1.0  \n",
       "342151            Inspector Doppler  3.0  \n",
       "342152            Inspector Doppler  NaN  \n",
       "1183659                        Milo  2.0  \n",
       "1325945      Police Constable Higgs  6.0  \n",
       "1341313  Detective Sergeant Tarrant  4.0  \n",
       "1560814                 Andrew Wyke  1.0  \n",
       "1652936                 Man on T.V.  3.0  \n",
       "2490140             Marguerite Wyke  NaN  \n",
       "2490141             Marguerite Wyke  5.0  \n",
       "3069393                      Maggie  NaN  "
      ]
     },
     "execution_count": 10,
     "metadata": {},
     "output_type": "execute_result"
    }
   ],
   "source": [
    "%%time\n",
    "cast[cast.title ==\"Sleuth\"]"
   ]
  },
  {
   "cell_type": "code",
   "execution_count": 13,
   "id": "17e875ac",
   "metadata": {},
   "outputs": [],
   "source": [
    "# indexes are better if they are ordered\n",
    "# index takes time to build but after that it operates much faster\n",
    "# when I do this Python uses a different method of finding -does not do it\n",
    "# 3.7 million times\n",
    "c = cast.set_index(['title']).sort_index()"
   ]
  },
  {
   "cell_type": "code",
   "execution_count": 15,
   "id": "861d9880",
   "metadata": {},
   "outputs": [
    {
     "name": "stdout",
     "output_type": "stream",
     "text": [
      "Wall time: 0 ns\n"
     ]
    },
    {
     "data": {
      "text/html": [
       "<div>\n",
       "<style scoped>\n",
       "    .dataframe tbody tr th:only-of-type {\n",
       "        vertical-align: middle;\n",
       "    }\n",
       "\n",
       "    .dataframe tbody tr th {\n",
       "        vertical-align: top;\n",
       "    }\n",
       "\n",
       "    .dataframe thead th {\n",
       "        text-align: right;\n",
       "    }\n",
       "</style>\n",
       "<table border=\"1\" class=\"dataframe\">\n",
       "  <thead>\n",
       "    <tr style=\"text-align: right;\">\n",
       "      <th></th>\n",
       "      <th>year</th>\n",
       "      <th>name</th>\n",
       "      <th>type</th>\n",
       "      <th>character</th>\n",
       "      <th>n</th>\n",
       "    </tr>\n",
       "    <tr>\n",
       "      <th>title</th>\n",
       "      <th></th>\n",
       "      <th></th>\n",
       "      <th></th>\n",
       "      <th></th>\n",
       "      <th></th>\n",
       "    </tr>\n",
       "  </thead>\n",
       "  <tbody>\n",
       "    <tr>\n",
       "      <th>Sleuth</th>\n",
       "      <td>2007</td>\n",
       "      <td>Eve (II) Channing</td>\n",
       "      <td>actress</td>\n",
       "      <td>Marguerite Wyke</td>\n",
       "      <td>NaN</td>\n",
       "    </tr>\n",
       "    <tr>\n",
       "      <th>Sleuth</th>\n",
       "      <td>2007</td>\n",
       "      <td>Michael Caine</td>\n",
       "      <td>actor</td>\n",
       "      <td>Andrew</td>\n",
       "      <td>1.0</td>\n",
       "    </tr>\n",
       "    <tr>\n",
       "      <th>Sleuth</th>\n",
       "      <td>1972</td>\n",
       "      <td>Eve (III) Channing</td>\n",
       "      <td>actress</td>\n",
       "      <td>Marguerite Wyke</td>\n",
       "      <td>5.0</td>\n",
       "    </tr>\n",
       "    <tr>\n",
       "      <th>Sleuth</th>\n",
       "      <td>2007</td>\n",
       "      <td>Carmel O'Sullivan</td>\n",
       "      <td>actress</td>\n",
       "      <td>Maggie</td>\n",
       "      <td>NaN</td>\n",
       "    </tr>\n",
       "    <tr>\n",
       "      <th>Sleuth</th>\n",
       "      <td>1972</td>\n",
       "      <td>Alec Cawthorne</td>\n",
       "      <td>actor</td>\n",
       "      <td>Inspector Doppler</td>\n",
       "      <td>3.0</td>\n",
       "    </tr>\n",
       "    <tr>\n",
       "      <th>Sleuth</th>\n",
       "      <td>1972</td>\n",
       "      <td>Laurence Olivier</td>\n",
       "      <td>actor</td>\n",
       "      <td>Andrew Wyke</td>\n",
       "      <td>1.0</td>\n",
       "    </tr>\n",
       "    <tr>\n",
       "      <th>Sleuth</th>\n",
       "      <td>2007</td>\n",
       "      <td>Harold Pinter</td>\n",
       "      <td>actor</td>\n",
       "      <td>Man on T.V.</td>\n",
       "      <td>3.0</td>\n",
       "    </tr>\n",
       "    <tr>\n",
       "      <th>Sleuth</th>\n",
       "      <td>2007</td>\n",
       "      <td>Kenneth Branagh</td>\n",
       "      <td>actor</td>\n",
       "      <td>Other Man on T.V.</td>\n",
       "      <td>NaN</td>\n",
       "    </tr>\n",
       "    <tr>\n",
       "      <th>Sleuth</th>\n",
       "      <td>2007</td>\n",
       "      <td>Jude Law</td>\n",
       "      <td>actor</td>\n",
       "      <td>Milo</td>\n",
       "      <td>2.0</td>\n",
       "    </tr>\n",
       "    <tr>\n",
       "      <th>Sleuth</th>\n",
       "      <td>1972</td>\n",
       "      <td>Michael Caine</td>\n",
       "      <td>actor</td>\n",
       "      <td>Milo Tindle</td>\n",
       "      <td>2.0</td>\n",
       "    </tr>\n",
       "    <tr>\n",
       "      <th>Sleuth</th>\n",
       "      <td>1972</td>\n",
       "      <td>Teddy Martin</td>\n",
       "      <td>actor</td>\n",
       "      <td>Police Constable Higgs</td>\n",
       "      <td>6.0</td>\n",
       "    </tr>\n",
       "    <tr>\n",
       "      <th>Sleuth</th>\n",
       "      <td>1972</td>\n",
       "      <td>John (II) Matthews</td>\n",
       "      <td>actor</td>\n",
       "      <td>Detective Sergeant Tarrant</td>\n",
       "      <td>4.0</td>\n",
       "    </tr>\n",
       "    <tr>\n",
       "      <th>Sleuth</th>\n",
       "      <td>2007</td>\n",
       "      <td>Alec (II) Cawthorne</td>\n",
       "      <td>actor</td>\n",
       "      <td>Inspector Doppler</td>\n",
       "      <td>NaN</td>\n",
       "    </tr>\n",
       "  </tbody>\n",
       "</table>\n",
       "</div>"
      ],
      "text/plain": [
       "        year                 name     type                   character    n\n",
       "title                                                                      \n",
       "Sleuth  2007    Eve (II) Channing  actress             Marguerite Wyke  NaN\n",
       "Sleuth  2007        Michael Caine    actor                      Andrew  1.0\n",
       "Sleuth  1972   Eve (III) Channing  actress             Marguerite Wyke  5.0\n",
       "Sleuth  2007    Carmel O'Sullivan  actress                      Maggie  NaN\n",
       "Sleuth  1972       Alec Cawthorne    actor           Inspector Doppler  3.0\n",
       "Sleuth  1972     Laurence Olivier    actor                 Andrew Wyke  1.0\n",
       "Sleuth  2007        Harold Pinter    actor                 Man on T.V.  3.0\n",
       "Sleuth  2007      Kenneth Branagh    actor           Other Man on T.V.  NaN\n",
       "Sleuth  2007             Jude Law    actor                        Milo  2.0\n",
       "Sleuth  1972        Michael Caine    actor                 Milo Tindle  2.0\n",
       "Sleuth  1972         Teddy Martin    actor      Police Constable Higgs  6.0\n",
       "Sleuth  1972   John (II) Matthews    actor  Detective Sergeant Tarrant  4.0\n",
       "Sleuth  2007  Alec (II) Cawthorne    actor           Inspector Doppler  NaN"
      ]
     },
     "execution_count": 15,
     "metadata": {},
     "output_type": "execute_result"
    }
   ],
   "source": [
    "%%time\n",
    "c.loc['Sleuth']"
   ]
  },
  {
   "cell_type": "code",
   "execution_count": 16,
   "id": "aa0b4ad8",
   "metadata": {},
   "outputs": [
    {
     "data": {
      "text/html": [
       "<div>\n",
       "<style scoped>\n",
       "    .dataframe tbody tr th:only-of-type {\n",
       "        vertical-align: middle;\n",
       "    }\n",
       "\n",
       "    .dataframe tbody tr th {\n",
       "        vertical-align: top;\n",
       "    }\n",
       "\n",
       "    .dataframe thead th {\n",
       "        text-align: right;\n",
       "    }\n",
       "</style>\n",
       "<table border=\"1\" class=\"dataframe\">\n",
       "  <thead>\n",
       "    <tr style=\"text-align: right;\">\n",
       "      <th></th>\n",
       "      <th></th>\n",
       "      <th>name</th>\n",
       "      <th>type</th>\n",
       "      <th>character</th>\n",
       "      <th>n</th>\n",
       "    </tr>\n",
       "    <tr>\n",
       "      <th>title</th>\n",
       "      <th>year</th>\n",
       "      <th></th>\n",
       "      <th></th>\n",
       "      <th></th>\n",
       "      <th></th>\n",
       "    </tr>\n",
       "  </thead>\n",
       "  <tbody>\n",
       "    <tr>\n",
       "      <th rowspan=\"5\" valign=\"top\">#211</th>\n",
       "      <th>2018</th>\n",
       "      <td>Sapir Azulay</td>\n",
       "      <td>actress</td>\n",
       "      <td>Jacobs</td>\n",
       "      <td>NaN</td>\n",
       "    </tr>\n",
       "    <tr>\n",
       "      <th>2018</th>\n",
       "      <td>Bleona</td>\n",
       "      <td>actress</td>\n",
       "      <td>Christine</td>\n",
       "      <td>NaN</td>\n",
       "    </tr>\n",
       "    <tr>\n",
       "      <th>2018</th>\n",
       "      <td>Amanda Cerny</td>\n",
       "      <td>actress</td>\n",
       "      <td>Sarah</td>\n",
       "      <td>9.0</td>\n",
       "    </tr>\n",
       "    <tr>\n",
       "      <th>2018</th>\n",
       "      <td>Mackenzie Evans</td>\n",
       "      <td>actress</td>\n",
       "      <td>Girl</td>\n",
       "      <td>NaN</td>\n",
       "    </tr>\n",
       "    <tr>\n",
       "      <th>2018</th>\n",
       "      <td>Liza Mircheva</td>\n",
       "      <td>actress</td>\n",
       "      <td>Elizabeth Grey</td>\n",
       "      <td>NaN</td>\n",
       "    </tr>\n",
       "  </tbody>\n",
       "</table>\n",
       "</div>"
      ],
      "text/plain": [
       "                       name     type       character    n\n",
       "title year                                               \n",
       "#211  2018     Sapir Azulay  actress          Jacobs  NaN\n",
       "      2018           Bleona  actress       Christine  NaN\n",
       "      2018     Amanda Cerny  actress           Sarah  9.0\n",
       "      2018  Mackenzie Evans  actress            Girl  NaN\n",
       "      2018    Liza Mircheva  actress  Elizabeth Grey  NaN"
      ]
     },
     "execution_count": 16,
     "metadata": {},
     "output_type": "execute_result"
    }
   ],
   "source": [
    "c = cast.set_index(['title', 'year']).sort_index()\n",
    "c.head()"
   ]
  },
  {
   "cell_type": "code",
   "execution_count": 19,
   "id": "2ad93bd7",
   "metadata": {},
   "outputs": [
    {
     "data": {
      "text/html": [
       "<div>\n",
       "<style scoped>\n",
       "    .dataframe tbody tr th:only-of-type {\n",
       "        vertical-align: middle;\n",
       "    }\n",
       "\n",
       "    .dataframe tbody tr th {\n",
       "        vertical-align: top;\n",
       "    }\n",
       "\n",
       "    .dataframe thead th {\n",
       "        text-align: right;\n",
       "    }\n",
       "</style>\n",
       "<table border=\"1\" class=\"dataframe\">\n",
       "  <thead>\n",
       "    <tr style=\"text-align: right;\">\n",
       "      <th></th>\n",
       "      <th></th>\n",
       "      <th>name</th>\n",
       "      <th>type</th>\n",
       "      <th>character</th>\n",
       "      <th>n</th>\n",
       "    </tr>\n",
       "    <tr>\n",
       "      <th>title</th>\n",
       "      <th>year</th>\n",
       "      <th></th>\n",
       "      <th></th>\n",
       "      <th></th>\n",
       "      <th></th>\n",
       "    </tr>\n",
       "  </thead>\n",
       "  <tbody>\n",
       "    <tr>\n",
       "      <th rowspan=\"11\" valign=\"top\">The Wizard of Oz</th>\n",
       "      <th>1939</th>\n",
       "      <td>Franz Balluck</td>\n",
       "      <td>actor</td>\n",
       "      <td>Munchkin Villager</td>\n",
       "      <td>NaN</td>\n",
       "    </tr>\n",
       "    <tr>\n",
       "      <th>1939</th>\n",
       "      <td>Charles Becker</td>\n",
       "      <td>actor</td>\n",
       "      <td>Munchkin Mayor</td>\n",
       "      <td>NaN</td>\n",
       "    </tr>\n",
       "    <tr>\n",
       "      <th>1939</th>\n",
       "      <td>Billy Bletcher</td>\n",
       "      <td>actor</td>\n",
       "      <td>Mayor</td>\n",
       "      <td>NaN</td>\n",
       "    </tr>\n",
       "    <tr>\n",
       "      <th>1939</th>\n",
       "      <td>Billy Bletcher</td>\n",
       "      <td>actor</td>\n",
       "      <td>Lollipop Guild Member</td>\n",
       "      <td>NaN</td>\n",
       "    </tr>\n",
       "    <tr>\n",
       "      <th>1939</th>\n",
       "      <td>Ray Bolger</td>\n",
       "      <td>actor</td>\n",
       "      <td>'Hunk'</td>\n",
       "      <td>3.0</td>\n",
       "    </tr>\n",
       "    <tr>\n",
       "      <th>...</th>\n",
       "      <td>...</td>\n",
       "      <td>...</td>\n",
       "      <td>...</td>\n",
       "      <td>...</td>\n",
       "    </tr>\n",
       "    <tr>\n",
       "      <th>1939</th>\n",
       "      <td>Alta Stevens</td>\n",
       "      <td>actress</td>\n",
       "      <td>Munchkin Villager</td>\n",
       "      <td>NaN</td>\n",
       "    </tr>\n",
       "    <tr>\n",
       "      <th>1939</th>\n",
       "      <td>Betty Tanner</td>\n",
       "      <td>actress</td>\n",
       "      <td>Munchkin Villager</td>\n",
       "      <td>NaN</td>\n",
       "    </tr>\n",
       "    <tr>\n",
       "      <th>1939</th>\n",
       "      <td>Terry (III)</td>\n",
       "      <td>actress</td>\n",
       "      <td>Toto</td>\n",
       "      <td>11.0</td>\n",
       "    </tr>\n",
       "    <tr>\n",
       "      <th>1939</th>\n",
       "      <td>Marie Winters</td>\n",
       "      <td>actress</td>\n",
       "      <td>Munchkin Villager</td>\n",
       "      <td>NaN</td>\n",
       "    </tr>\n",
       "    <tr>\n",
       "      <th>1939</th>\n",
       "      <td>Gladys V. Wolff</td>\n",
       "      <td>actress</td>\n",
       "      <td>Munchkin Villager</td>\n",
       "      <td>NaN</td>\n",
       "    </tr>\n",
       "  </tbody>\n",
       "</table>\n",
       "<p>130 rows × 4 columns</p>\n",
       "</div>"
      ],
      "text/plain": [
       "                                  name     type              character     n\n",
       "title            year                                                       \n",
       "The Wizard of Oz 1939    Franz Balluck    actor      Munchkin Villager   NaN\n",
       "                 1939   Charles Becker    actor         Munchkin Mayor   NaN\n",
       "                 1939   Billy Bletcher    actor                  Mayor   NaN\n",
       "                 1939   Billy Bletcher    actor  Lollipop Guild Member   NaN\n",
       "                 1939       Ray Bolger    actor                 'Hunk'   3.0\n",
       "...                                ...      ...                    ...   ...\n",
       "                 1939     Alta Stevens  actress      Munchkin Villager   NaN\n",
       "                 1939     Betty Tanner  actress      Munchkin Villager   NaN\n",
       "                 1939      Terry (III)  actress                   Toto  11.0\n",
       "                 1939    Marie Winters  actress      Munchkin Villager   NaN\n",
       "                 1939  Gladys V. Wolff  actress      Munchkin Villager   NaN\n",
       "\n",
       "[130 rows x 4 columns]"
      ]
     },
     "execution_count": 19,
     "metadata": {},
     "output_type": "execute_result"
    }
   ],
   "source": [
    "c.loc['The Wizard of Oz', 1939]"
   ]
  },
  {
   "cell_type": "code",
   "execution_count": 20,
   "id": "181f076d",
   "metadata": {},
   "outputs": [
    {
     "data": {
      "text/html": [
       "<div>\n",
       "<style scoped>\n",
       "    .dataframe tbody tr th:only-of-type {\n",
       "        vertical-align: middle;\n",
       "    }\n",
       "\n",
       "    .dataframe tbody tr th {\n",
       "        vertical-align: top;\n",
       "    }\n",
       "\n",
       "    .dataframe thead th {\n",
       "        text-align: right;\n",
       "    }\n",
       "</style>\n",
       "<table border=\"1\" class=\"dataframe\">\n",
       "  <thead>\n",
       "    <tr style=\"text-align: right;\">\n",
       "      <th></th>\n",
       "      <th>year</th>\n",
       "      <th>name</th>\n",
       "      <th>type</th>\n",
       "      <th>character</th>\n",
       "      <th>n</th>\n",
       "    </tr>\n",
       "    <tr>\n",
       "      <th>title</th>\n",
       "      <th></th>\n",
       "      <th></th>\n",
       "      <th></th>\n",
       "      <th></th>\n",
       "      <th></th>\n",
       "    </tr>\n",
       "  </thead>\n",
       "  <tbody>\n",
       "    <tr>\n",
       "      <th>The Wizard of Oz</th>\n",
       "      <td>1939</td>\n",
       "      <td>Franz Balluck</td>\n",
       "      <td>actor</td>\n",
       "      <td>Munchkin Villager</td>\n",
       "      <td>NaN</td>\n",
       "    </tr>\n",
       "    <tr>\n",
       "      <th>The Wizard of Oz</th>\n",
       "      <td>1939</td>\n",
       "      <td>Charles Becker</td>\n",
       "      <td>actor</td>\n",
       "      <td>Munchkin Mayor</td>\n",
       "      <td>NaN</td>\n",
       "    </tr>\n",
       "    <tr>\n",
       "      <th>The Wizard of Oz</th>\n",
       "      <td>1939</td>\n",
       "      <td>Billy Bletcher</td>\n",
       "      <td>actor</td>\n",
       "      <td>Mayor</td>\n",
       "      <td>NaN</td>\n",
       "    </tr>\n",
       "    <tr>\n",
       "      <th>The Wizard of Oz</th>\n",
       "      <td>1939</td>\n",
       "      <td>Billy Bletcher</td>\n",
       "      <td>actor</td>\n",
       "      <td>Lollipop Guild Member</td>\n",
       "      <td>NaN</td>\n",
       "    </tr>\n",
       "    <tr>\n",
       "      <th>The Wizard of Oz</th>\n",
       "      <td>1939</td>\n",
       "      <td>Ray Bolger</td>\n",
       "      <td>actor</td>\n",
       "      <td>'Hunk'</td>\n",
       "      <td>3.0</td>\n",
       "    </tr>\n",
       "    <tr>\n",
       "      <th>...</th>\n",
       "      <td>...</td>\n",
       "      <td>...</td>\n",
       "      <td>...</td>\n",
       "      <td>...</td>\n",
       "      <td>...</td>\n",
       "    </tr>\n",
       "    <tr>\n",
       "      <th>The Wizard of Oz</th>\n",
       "      <td>1939</td>\n",
       "      <td>Alta Stevens</td>\n",
       "      <td>actress</td>\n",
       "      <td>Munchkin Villager</td>\n",
       "      <td>NaN</td>\n",
       "    </tr>\n",
       "    <tr>\n",
       "      <th>The Wizard of Oz</th>\n",
       "      <td>1939</td>\n",
       "      <td>Betty Tanner</td>\n",
       "      <td>actress</td>\n",
       "      <td>Munchkin Villager</td>\n",
       "      <td>NaN</td>\n",
       "    </tr>\n",
       "    <tr>\n",
       "      <th>The Wizard of Oz</th>\n",
       "      <td>1939</td>\n",
       "      <td>Terry (III)</td>\n",
       "      <td>actress</td>\n",
       "      <td>Toto</td>\n",
       "      <td>11.0</td>\n",
       "    </tr>\n",
       "    <tr>\n",
       "      <th>The Wizard of Oz</th>\n",
       "      <td>1939</td>\n",
       "      <td>Marie Winters</td>\n",
       "      <td>actress</td>\n",
       "      <td>Munchkin Villager</td>\n",
       "      <td>NaN</td>\n",
       "    </tr>\n",
       "    <tr>\n",
       "      <th>The Wizard of Oz</th>\n",
       "      <td>1939</td>\n",
       "      <td>Gladys V. Wolff</td>\n",
       "      <td>actress</td>\n",
       "      <td>Munchkin Villager</td>\n",
       "      <td>NaN</td>\n",
       "    </tr>\n",
       "  </tbody>\n",
       "</table>\n",
       "<p>130 rows × 5 columns</p>\n",
       "</div>"
      ],
      "text/plain": [
       "                  year             name     type              character     n\n",
       "title                                                                        \n",
       "The Wizard of Oz  1939    Franz Balluck    actor      Munchkin Villager   NaN\n",
       "The Wizard of Oz  1939   Charles Becker    actor         Munchkin Mayor   NaN\n",
       "The Wizard of Oz  1939   Billy Bletcher    actor                  Mayor   NaN\n",
       "The Wizard of Oz  1939   Billy Bletcher    actor  Lollipop Guild Member   NaN\n",
       "The Wizard of Oz  1939       Ray Bolger    actor                 'Hunk'   3.0\n",
       "...                ...              ...      ...                    ...   ...\n",
       "The Wizard of Oz  1939     Alta Stevens  actress      Munchkin Villager   NaN\n",
       "The Wizard of Oz  1939     Betty Tanner  actress      Munchkin Villager   NaN\n",
       "The Wizard of Oz  1939      Terry (III)  actress                   Toto  11.0\n",
       "The Wizard of Oz  1939    Marie Winters  actress      Munchkin Villager   NaN\n",
       "The Wizard of Oz  1939  Gladys V. Wolff  actress      Munchkin Villager   NaN\n",
       "\n",
       "[130 rows x 5 columns]"
      ]
     },
     "execution_count": 20,
     "metadata": {},
     "output_type": "execute_result"
    }
   ],
   "source": [
    "c.loc['The Wizard of Oz', 1939].reset_index('year')"
   ]
  },
  {
   "cell_type": "code",
   "execution_count": 21,
   "id": "67207f2a",
   "metadata": {},
   "outputs": [
    {
     "data": {
      "text/html": [
       "<div>\n",
       "<style scoped>\n",
       "    .dataframe tbody tr th:only-of-type {\n",
       "        vertical-align: middle;\n",
       "    }\n",
       "\n",
       "    .dataframe tbody tr th {\n",
       "        vertical-align: top;\n",
       "    }\n",
       "\n",
       "    .dataframe thead th {\n",
       "        text-align: right;\n",
       "    }\n",
       "</style>\n",
       "<table border=\"1\" class=\"dataframe\">\n",
       "  <thead>\n",
       "    <tr style=\"text-align: right;\">\n",
       "      <th></th>\n",
       "      <th></th>\n",
       "      <th>name</th>\n",
       "      <th>type</th>\n",
       "      <th>character</th>\n",
       "      <th>n</th>\n",
       "    </tr>\n",
       "    <tr>\n",
       "      <th>title</th>\n",
       "      <th>year</th>\n",
       "      <th></th>\n",
       "      <th></th>\n",
       "      <th></th>\n",
       "      <th></th>\n",
       "    </tr>\n",
       "  </thead>\n",
       "  <tbody>\n",
       "    <tr>\n",
       "      <th rowspan=\"11\" valign=\"top\">The Wizard of Oz</th>\n",
       "      <th>1939</th>\n",
       "      <td>Franz Balluck</td>\n",
       "      <td>actor</td>\n",
       "      <td>Munchkin Villager</td>\n",
       "      <td>NaN</td>\n",
       "    </tr>\n",
       "    <tr>\n",
       "      <th>1939</th>\n",
       "      <td>Charles Becker</td>\n",
       "      <td>actor</td>\n",
       "      <td>Munchkin Mayor</td>\n",
       "      <td>NaN</td>\n",
       "    </tr>\n",
       "    <tr>\n",
       "      <th>1939</th>\n",
       "      <td>Billy Bletcher</td>\n",
       "      <td>actor</td>\n",
       "      <td>Mayor</td>\n",
       "      <td>NaN</td>\n",
       "    </tr>\n",
       "    <tr>\n",
       "      <th>1939</th>\n",
       "      <td>Billy Bletcher</td>\n",
       "      <td>actor</td>\n",
       "      <td>Lollipop Guild Member</td>\n",
       "      <td>NaN</td>\n",
       "    </tr>\n",
       "    <tr>\n",
       "      <th>1939</th>\n",
       "      <td>Ray Bolger</td>\n",
       "      <td>actor</td>\n",
       "      <td>'Hunk'</td>\n",
       "      <td>3.0</td>\n",
       "    </tr>\n",
       "    <tr>\n",
       "      <th>...</th>\n",
       "      <td>...</td>\n",
       "      <td>...</td>\n",
       "      <td>...</td>\n",
       "      <td>...</td>\n",
       "    </tr>\n",
       "    <tr>\n",
       "      <th>1939</th>\n",
       "      <td>Alta Stevens</td>\n",
       "      <td>actress</td>\n",
       "      <td>Munchkin Villager</td>\n",
       "      <td>NaN</td>\n",
       "    </tr>\n",
       "    <tr>\n",
       "      <th>1939</th>\n",
       "      <td>Betty Tanner</td>\n",
       "      <td>actress</td>\n",
       "      <td>Munchkin Villager</td>\n",
       "      <td>NaN</td>\n",
       "    </tr>\n",
       "    <tr>\n",
       "      <th>1939</th>\n",
       "      <td>Terry (III)</td>\n",
       "      <td>actress</td>\n",
       "      <td>Toto</td>\n",
       "      <td>11.0</td>\n",
       "    </tr>\n",
       "    <tr>\n",
       "      <th>1939</th>\n",
       "      <td>Marie Winters</td>\n",
       "      <td>actress</td>\n",
       "      <td>Munchkin Villager</td>\n",
       "      <td>NaN</td>\n",
       "    </tr>\n",
       "    <tr>\n",
       "      <th>1939</th>\n",
       "      <td>Gladys V. Wolff</td>\n",
       "      <td>actress</td>\n",
       "      <td>Munchkin Villager</td>\n",
       "      <td>NaN</td>\n",
       "    </tr>\n",
       "  </tbody>\n",
       "</table>\n",
       "<p>130 rows × 4 columns</p>\n",
       "</div>"
      ],
      "text/plain": [
       "                                  name     type              character     n\n",
       "title            year                                                       \n",
       "The Wizard of Oz 1939    Franz Balluck    actor      Munchkin Villager   NaN\n",
       "                 1939   Charles Becker    actor         Munchkin Mayor   NaN\n",
       "                 1939   Billy Bletcher    actor                  Mayor   NaN\n",
       "                 1939   Billy Bletcher    actor  Lollipop Guild Member   NaN\n",
       "                 1939       Ray Bolger    actor                 'Hunk'   3.0\n",
       "...                                ...      ...                    ...   ...\n",
       "                 1939     Alta Stevens  actress      Munchkin Villager   NaN\n",
       "                 1939     Betty Tanner  actress      Munchkin Villager   NaN\n",
       "                 1939      Terry (III)  actress                   Toto  11.0\n",
       "                 1939    Marie Winters  actress      Munchkin Villager   NaN\n",
       "                 1939  Gladys V. Wolff  actress      Munchkin Villager   NaN\n",
       "\n",
       "[130 rows x 4 columns]"
      ]
     },
     "execution_count": 21,
     "metadata": {},
     "output_type": "execute_result"
    }
   ],
   "source": [
    "c.loc['The Wizard of Oz', 1939]"
   ]
  },
  {
   "cell_type": "code",
   "execution_count": 22,
   "id": "6bceaaa1",
   "metadata": {},
   "outputs": [],
   "source": [
    "# equivalent to c = c.reset_index()\n",
    "c.reset_index(inplace = True)"
   ]
  },
  {
   "cell_type": "code",
   "execution_count": 25,
   "id": "02122ea7",
   "metadata": {},
   "outputs": [
    {
     "data": {
      "text/plain": [
       "71"
      ]
     },
     "execution_count": 25,
     "metadata": {},
     "output_type": "execute_result"
    }
   ],
   "source": [
    "c = cast[cast.name == 'Sylvester Stallone']\n",
    "len(c)"
   ]
  },
  {
   "cell_type": "code",
   "execution_count": 29,
   "id": "7bb717e1",
   "metadata": {},
   "outputs": [
    {
     "data": {
      "text/html": [
       "<div>\n",
       "<style scoped>\n",
       "    .dataframe tbody tr th:only-of-type {\n",
       "        vertical-align: middle;\n",
       "    }\n",
       "\n",
       "    .dataframe tbody tr th {\n",
       "        vertical-align: top;\n",
       "    }\n",
       "\n",
       "    .dataframe thead th {\n",
       "        text-align: right;\n",
       "    }\n",
       "</style>\n",
       "<table border=\"1\" class=\"dataframe\">\n",
       "  <thead>\n",
       "    <tr style=\"text-align: right;\">\n",
       "      <th></th>\n",
       "      <th></th>\n",
       "      <th></th>\n",
       "      <th>name</th>\n",
       "      <th>type</th>\n",
       "      <th>n</th>\n",
       "    </tr>\n",
       "    <tr>\n",
       "      <th>year</th>\n",
       "      <th>title</th>\n",
       "      <th>character</th>\n",
       "      <th></th>\n",
       "      <th></th>\n",
       "      <th></th>\n",
       "    </tr>\n",
       "  </thead>\n",
       "  <tbody>\n",
       "    <tr>\n",
       "      <th rowspan=\"3\" valign=\"top\">1970</th>\n",
       "      <th>Pigeons</th>\n",
       "      <th>Party Guest</th>\n",
       "      <td>Sylvester Stallone</td>\n",
       "      <td>actor</td>\n",
       "      <td>NaN</td>\n",
       "    </tr>\n",
       "    <tr>\n",
       "      <th>Rebel</th>\n",
       "      <th>Jerry Savage</th>\n",
       "      <td>Sylvester Stallone</td>\n",
       "      <td>actor</td>\n",
       "      <td>1.0</td>\n",
       "    </tr>\n",
       "    <tr>\n",
       "      <th>The Party at Kitty and Stud's</th>\n",
       "      <th>Stud</th>\n",
       "      <td>Sylvester Stallone</td>\n",
       "      <td>actor</td>\n",
       "      <td>1.0</td>\n",
       "    </tr>\n",
       "    <tr>\n",
       "      <th>1971</th>\n",
       "      <th>Bananas</th>\n",
       "      <th>Subway Thug #1</th>\n",
       "      <td>Sylvester Stallone</td>\n",
       "      <td>actor</td>\n",
       "      <td>NaN</td>\n",
       "    </tr>\n",
       "    <tr>\n",
       "      <th>1974</th>\n",
       "      <th>The Lords of Flatbush</th>\n",
       "      <th>Stanley Rosiello</th>\n",
       "      <td>Sylvester Stallone</td>\n",
       "      <td>actor</td>\n",
       "      <td>2.0</td>\n",
       "    </tr>\n",
       "    <tr>\n",
       "      <th rowspan=\"4\" valign=\"top\">1975</th>\n",
       "      <th>Capone</th>\n",
       "      <th>Frank Nitti</th>\n",
       "      <td>Sylvester Stallone</td>\n",
       "      <td>actor</td>\n",
       "      <td>4.0</td>\n",
       "    </tr>\n",
       "    <tr>\n",
       "      <th>Death Race 2000</th>\n",
       "      <th>Machine Gun Joe Viterbo</th>\n",
       "      <td>Sylvester Stallone</td>\n",
       "      <td>actor</td>\n",
       "      <td>3.0</td>\n",
       "    </tr>\n",
       "    <tr>\n",
       "      <th>Farewell, My Lovely</th>\n",
       "      <th>Jonnie</th>\n",
       "      <td>Sylvester Stallone</td>\n",
       "      <td>actor</td>\n",
       "      <td>9.0</td>\n",
       "    </tr>\n",
       "    <tr>\n",
       "      <th>The Prisoner of Second Avenue</th>\n",
       "      <th>Youth in Park</th>\n",
       "      <td>Sylvester Stallone</td>\n",
       "      <td>actor</td>\n",
       "      <td>19.0</td>\n",
       "    </tr>\n",
       "    <tr>\n",
       "      <th>1976</th>\n",
       "      <th>Cannonball!</th>\n",
       "      <th>Mafioso</th>\n",
       "      <td>Sylvester Stallone</td>\n",
       "      <td>actor</td>\n",
       "      <td>NaN</td>\n",
       "    </tr>\n",
       "  </tbody>\n",
       "</table>\n",
       "</div>"
      ],
      "text/plain": [
       "                                                                          name  \\\n",
       "year title                         character                                     \n",
       "1970 Pigeons                       Party Guest              Sylvester Stallone   \n",
       "     Rebel                         Jerry Savage             Sylvester Stallone   \n",
       "     The Party at Kitty and Stud's Stud                     Sylvester Stallone   \n",
       "1971 Bananas                       Subway Thug #1           Sylvester Stallone   \n",
       "1974 The Lords of Flatbush         Stanley Rosiello         Sylvester Stallone   \n",
       "1975 Capone                        Frank Nitti              Sylvester Stallone   \n",
       "     Death Race 2000               Machine Gun Joe Viterbo  Sylvester Stallone   \n",
       "     Farewell, My Lovely           Jonnie                   Sylvester Stallone   \n",
       "     The Prisoner of Second Avenue Youth in Park            Sylvester Stallone   \n",
       "1976 Cannonball!                   Mafioso                  Sylvester Stallone   \n",
       "\n",
       "                                                             type     n  \n",
       "year title                         character                             \n",
       "1970 Pigeons                       Party Guest              actor   NaN  \n",
       "     Rebel                         Jerry Savage             actor   1.0  \n",
       "     The Party at Kitty and Stud's Stud                     actor   1.0  \n",
       "1971 Bananas                       Subway Thug #1           actor   NaN  \n",
       "1974 The Lords of Flatbush         Stanley Rosiello         actor   2.0  \n",
       "1975 Capone                        Frank Nitti              actor   4.0  \n",
       "     Death Race 2000               Machine Gun Joe Viterbo  actor   3.0  \n",
       "     Farewell, My Lovely           Jonnie                   actor   9.0  \n",
       "     The Prisoner of Second Avenue Youth in Park            actor  19.0  \n",
       "1976 Cannonball!                   Mafioso                  actor   NaN  "
      ]
     },
     "execution_count": 29,
     "metadata": {},
     "output_type": "execute_result"
    }
   ],
   "source": [
    "c.sort_values(by='year').groupby(['year', 'title', 'character']).first().head(10)"
   ]
  },
  {
   "cell_type": "code",
   "execution_count": 31,
   "id": "d3679d70",
   "metadata": {},
   "outputs": [
    {
     "data": {
      "text/plain": [
       "year\n",
       "1970    3\n",
       "1971    1\n",
       "1974    1\n",
       "1975    4\n",
       "1976    2\n",
       "1978    2\n",
       "1979    1\n",
       "1981    2\n",
       "1982    2\n",
       "1983    1\n",
       "dtype: int64"
      ]
     },
     "execution_count": 31,
     "metadata": {},
     "output_type": "execute_result"
    }
   ],
   "source": [
    "c.sort_values(by='year').groupby(['year']).size().head(10)"
   ]
  },
  {
   "cell_type": "code",
   "execution_count": 35,
   "id": "ffff9dd2",
   "metadata": {},
   "outputs": [
    {
     "data": {
      "text/plain": [
       "<AxesSubplot:xlabel='year'>"
      ]
     },
     "execution_count": 35,
     "metadata": {},
     "output_type": "execute_result"
    },
    {
     "data": {
      "image/png": "[encoded data removed]",
      "text/plain": [
       "<Figure size 432x288 with 1 Axes>"
      ]
     },
     "metadata": {
      "needs_background": "light"
     },
     "output_type": "display_data"
    }
   ],
   "source": [
    "c.sort_values(by='year').groupby(['year']).size().plot(style=\"*\")"
   ]
  },
  {
   "cell_type": "code",
   "execution_count": 37,
   "id": "892f16a1",
   "metadata": {},
   "outputs": [
    {
     "data": {
      "text/plain": [
       "year\n",
       "1970    3\n",
       "1971    1\n",
       "1974    1\n",
       "1975    4\n",
       "1976    2\n",
       "1978    2\n",
       "1979    1\n",
       "1981    2\n",
       "1982    2\n",
       "1983    1\n",
       "1984    1\n",
       "1985    2\n",
       "1986    1\n",
       "1987    1\n",
       "1988    1\n",
       "1989    2\n",
       "1990    3\n",
       "1991    1\n",
       "1992    2\n",
       "1993    2\n",
       "1994    1\n",
       "1995    2\n",
       "1996    2\n",
       "1997    4\n",
       "1998    1\n",
       "2000    1\n",
       "2001    1\n",
       "2002    1\n",
       "2003    3\n",
       "2006    1\n",
       "2007    1\n",
       "2008    1\n",
       "2009    2\n",
       "2010    1\n",
       "2011    1\n",
       "2012    2\n",
       "2013    2\n",
       "2014    2\n",
       "2015    1\n",
       "2016    1\n",
       "2017    2\n",
       "2018    3\n",
       "dtype: int64"
      ]
     },
     "execution_count": 37,
     "metadata": {},
     "output_type": "execute_result"
    }
   ],
   "source": [
    "new_variable = c.sort_values(by='year').groupby(['year']).size().head(10)"
   ]
  },
  {
   "cell_type": "code",
   "execution_count": 39,
   "id": "9f724bbb",
   "metadata": {},
   "outputs": [
    {
     "data": {
      "text/plain": [
       "year\n",
       "1970     1.0\n",
       "1971     NaN\n",
       "1974     2.0\n",
       "1975     3.0\n",
       "1976     1.0\n",
       "1978     1.0\n",
       "1979     1.0\n",
       "1981     1.0\n",
       "1982     1.0\n",
       "1983     NaN\n",
       "1984     1.0\n",
       "1985     1.0\n",
       "1986     1.0\n",
       "1987     1.0\n",
       "1988     1.0\n",
       "1989     1.0\n",
       "1990     1.0\n",
       "1991     5.0\n",
       "1992     1.0\n",
       "1993     1.0\n",
       "1994     1.0\n",
       "1995     1.0\n",
       "1996     1.0\n",
       "1997     1.0\n",
       "1998    11.0\n",
       "2000     1.0\n",
       "2001     1.0\n",
       "2002     1.0\n",
       "2003     7.0\n",
       "2006     1.0\n",
       "2007     NaN\n",
       "2008     1.0\n",
       "2009     NaN\n",
       "2010     1.0\n",
       "2011    33.0\n",
       "2012     1.0\n",
       "2013     1.0\n",
       "2014     1.0\n",
       "2015     2.0\n",
       "2016    11.0\n",
       "2017     6.0\n",
       "2018     NaN\n",
       "Name: n, dtype: float64"
      ]
     },
     "execution_count": 39,
     "metadata": {},
     "output_type": "execute_result"
    }
   ],
   "source": [
    "c.sort_values(by='year').groupby('year').n.min()"
   ]
  },
  {
   "cell_type": "code",
   "execution_count": 40,
   "id": "54b5d5e1",
   "metadata": {},
   "outputs": [
    {
     "data": {
      "text/plain": [
       "year\n",
       "1970    14\n",
       "1980    13\n",
       "1990    18\n",
       "2000    11\n",
       "2010    15\n",
       "dtype: int64"
      ]
     },
     "execution_count": 40,
     "metadata": {},
     "output_type": "execute_result"
    }
   ],
   "source": [
    "c.groupby(c.year // 10 * 10).size()"
   ]
  },
  {
   "cell_type": "code",
   "execution_count": 42,
   "id": "2169a60e",
   "metadata": {},
   "outputs": [
    {
     "data": {
      "text/plain": [
       "year  type   \n",
       "1890  actor           2\n",
       "      actress         1\n",
       "1900  actor          54\n",
       "      actress        16\n",
       "1910  actor       27396\n",
       "      actress     15733\n",
       "1920  actor       48112\n",
       "      actress     23826\n",
       "1930  actor      149272\n",
       "      actress     49298\n",
       "1940  actor      159799\n",
       "      actress     50871\n",
       "1950  actor      153559\n",
       "      actress     56331\n",
       "1960  actor      128132\n",
       "      actress     54484\n",
       "1970  actor      142015\n",
       "      actress     60977\n",
       "1980  actor      177064\n",
       "      actress     80619\n",
       "1990  actor      245713\n",
       "      actress    115505\n",
       "2000  actor      440810\n",
       "      actress    235217\n",
       "2010  actor      645548\n",
       "      actress    382288\n",
       "2020  actor         134\n",
       "      actress       123\n",
       "2110  actor           2\n",
       "      actress         1\n",
       "dtype: int64"
      ]
     },
     "execution_count": 42,
     "metadata": {},
     "output_type": "execute_result"
    }
   ],
   "source": [
    "c = cast\n",
    "c.groupby([c.year // 10 * 10, 'type']).size()"
   ]
  },
  {
   "cell_type": "code",
   "execution_count": 45,
   "id": "29b2c8d2",
   "metadata": {},
   "outputs": [],
   "source": [
    "c = c[c.year < 2018]\n",
    "unstacked = c.groupby([c.year // 10 * 10, 'type']).size().unstack()"
   ]
  },
  {
   "cell_type": "code",
   "execution_count": 46,
   "id": "e15f7682",
   "metadata": {},
   "outputs": [
    {
     "data": {
      "text/plain": [
       "<AxesSubplot:xlabel='year'>"
      ]
     },
     "execution_count": 46,
     "metadata": {},
     "output_type": "execute_result"
    },
    {
     "data": {
      "image/png": "[encoded data removed]",
      "text/plain": [
       "<Figure size 432x288 with 1 Axes>"
      ]
     },
     "metadata": {
      "needs_background": "light"
     },
     "output_type": "display_data"
    }
   ],
   "source": [
    "(unstacked['actress'] / unstacked['actor']).plot(style='o')"
   ]
  },
  {
   "cell_type": "code",
   "execution_count": 48,
   "id": "029e12dc",
   "metadata": {},
   "outputs": [
    {
     "data": {
      "text/plain": [
       "<AxesSubplot:xlabel='year'>"
      ]
     },
     "execution_count": 48,
     "metadata": {},
     "output_type": "execute_result"
    },
    {
     "data": {
      "image/png": "[encoded data removed]",
      "text/plain": [
       "<Figure size 432x288 with 1 Axes>"
      ]
     },
     "metadata": {
      "needs_background": "light"
     },
     "output_type": "display_data"
    }
   ],
   "source": [
    "(unstacked['actor'] - unstacked['actress']).plot(ylim=(-5000, 300000))"
   ]
  },
  {
   "cell_type": "code",
   "execution_count": 49,
   "id": "938adeab",
   "metadata": {},
   "outputs": [
    {
     "name": "stdout",
     "output_type": "stream",
     "text": [
      "<class 'pandas.core.frame.DataFrame'>\n",
      "RangeIndex: 443486 entries, 0 to 443485\n",
      "Data columns (total 4 columns):\n",
      " #   Column   Non-Null Count   Dtype         \n",
      "---  ------   --------------   -----         \n",
      " 0   title    443486 non-null  object        \n",
      " 1   year     443486 non-null  int64         \n",
      " 2   country  443486 non-null  object        \n",
      " 3   date     443486 non-null  datetime64[ns]\n",
      "dtypes: datetime64[ns](1), int64(1), object(2)\n",
      "memory usage: 13.5+ MB\n"
     ]
    }
   ],
   "source": [
    "release = pd.read_csv('release_dates.csv',\n",
    "                     parse_dates = ['date'],\n",
    "                     infer_datetime_format =True)\n",
    "release.info()"
   ]
  },
  {
   "cell_type": "code",
   "execution_count": 50,
   "id": "08ff63e8",
   "metadata": {},
   "outputs": [
    {
     "data": {
      "text/html": [
       "<div>\n",
       "<style scoped>\n",
       "    .dataframe tbody tr th:only-of-type {\n",
       "        vertical-align: middle;\n",
       "    }\n",
       "\n",
       "    .dataframe tbody tr th {\n",
       "        vertical-align: top;\n",
       "    }\n",
       "\n",
       "    .dataframe thead th {\n",
       "        text-align: right;\n",
       "    }\n",
       "</style>\n",
       "<table border=\"1\" class=\"dataframe\">\n",
       "  <thead>\n",
       "    <tr style=\"text-align: right;\">\n",
       "      <th></th>\n",
       "      <th>title</th>\n",
       "      <th>year</th>\n",
       "      <th>country</th>\n",
       "      <th>date</th>\n",
       "    </tr>\n",
       "  </thead>\n",
       "  <tbody>\n",
       "    <tr>\n",
       "      <th>0</th>\n",
       "      <td>#73, Shaanthi Nivaasa</td>\n",
       "      <td>2007</td>\n",
       "      <td>India</td>\n",
       "      <td>2007-06-15</td>\n",
       "    </tr>\n",
       "    <tr>\n",
       "      <th>1</th>\n",
       "      <td>#BKKY</td>\n",
       "      <td>2016</td>\n",
       "      <td>Cambodia</td>\n",
       "      <td>2017-10-12</td>\n",
       "    </tr>\n",
       "    <tr>\n",
       "      <th>2</th>\n",
       "      <td>#Beings</td>\n",
       "      <td>2015</td>\n",
       "      <td>Romania</td>\n",
       "      <td>2015-01-29</td>\n",
       "    </tr>\n",
       "    <tr>\n",
       "      <th>3</th>\n",
       "      <td>#Captured</td>\n",
       "      <td>2017</td>\n",
       "      <td>USA</td>\n",
       "      <td>2017-09-05</td>\n",
       "    </tr>\n",
       "    <tr>\n",
       "      <th>4</th>\n",
       "      <td>#Ewankosau saranghaeyo</td>\n",
       "      <td>2015</td>\n",
       "      <td>Philippines</td>\n",
       "      <td>2015-01-21</td>\n",
       "    </tr>\n",
       "  </tbody>\n",
       "</table>\n",
       "</div>"
      ],
      "text/plain": [
       "                    title  year      country       date\n",
       "0   #73, Shaanthi Nivaasa  2007        India 2007-06-15\n",
       "1                   #BKKY  2016     Cambodia 2017-10-12\n",
       "2                 #Beings  2015      Romania 2015-01-29\n",
       "3               #Captured  2017          USA 2017-09-05\n",
       "4  #Ewankosau saranghaeyo  2015  Philippines 2015-01-21"
      ]
     },
     "execution_count": 50,
     "metadata": {},
     "output_type": "execute_result"
    }
   ],
   "source": [
    "release.head()"
   ]
  },
  {
   "cell_type": "code",
   "execution_count": 52,
   "id": "de65f79b",
   "metadata": {},
   "outputs": [
    {
     "data": {
      "text/plain": [
       "0         4\n",
       "1         3\n",
       "2         3\n",
       "3         1\n",
       "4         2\n",
       "         ..\n",
       "443481    4\n",
       "443482    4\n",
       "443483    4\n",
       "443484    4\n",
       "443485    4\n",
       "Name: date, Length: 443486, dtype: int64"
      ]
     },
     "execution_count": 52,
     "metadata": {},
     "output_type": "execute_result"
    }
   ],
   "source": [
    "r = release\n",
    "r.date.dt.dayofweek"
   ]
  },
  {
   "cell_type": "code",
   "execution_count": 53,
   "id": "1e09f8c1",
   "metadata": {},
   "outputs": [
    {
     "data": {
      "text/html": [
       "<div>\n",
       "<style scoped>\n",
       "    .dataframe tbody tr th:only-of-type {\n",
       "        vertical-align: middle;\n",
       "    }\n",
       "\n",
       "    .dataframe tbody tr th {\n",
       "        vertical-align: top;\n",
       "    }\n",
       "\n",
       "    .dataframe thead th {\n",
       "        text-align: right;\n",
       "    }\n",
       "</style>\n",
       "<table border=\"1\" class=\"dataframe\">\n",
       "  <thead>\n",
       "    <tr style=\"text-align: right;\">\n",
       "      <th></th>\n",
       "      <th>title</th>\n",
       "      <th>year</th>\n",
       "      <th>name</th>\n",
       "      <th>type</th>\n",
       "      <th>character</th>\n",
       "      <th>n</th>\n",
       "    </tr>\n",
       "  </thead>\n",
       "  <tbody>\n",
       "    <tr>\n",
       "      <th>0</th>\n",
       "      <td>Closet Monster</td>\n",
       "      <td>2015</td>\n",
       "      <td>Buffy #1</td>\n",
       "      <td>actor</td>\n",
       "      <td>Buffy 4</td>\n",
       "      <td>31.0</td>\n",
       "    </tr>\n",
       "    <tr>\n",
       "      <th>1</th>\n",
       "      <td>Suuri illusioni</td>\n",
       "      <td>1985</td>\n",
       "      <td>Homo $</td>\n",
       "      <td>actor</td>\n",
       "      <td>Guests</td>\n",
       "      <td>22.0</td>\n",
       "    </tr>\n",
       "    <tr>\n",
       "      <th>2</th>\n",
       "      <td>Battle of the Sexes</td>\n",
       "      <td>2017</td>\n",
       "      <td>$hutter</td>\n",
       "      <td>actor</td>\n",
       "      <td>Bobby Riggs Fan</td>\n",
       "      <td>10.0</td>\n",
       "    </tr>\n",
       "    <tr>\n",
       "      <th>3</th>\n",
       "      <td>Secret in Their Eyes</td>\n",
       "      <td>2015</td>\n",
       "      <td>$hutter</td>\n",
       "      <td>actor</td>\n",
       "      <td>2002 Dodger Fan</td>\n",
       "      <td>NaN</td>\n",
       "    </tr>\n",
       "    <tr>\n",
       "      <th>4</th>\n",
       "      <td>Steve Jobs</td>\n",
       "      <td>2015</td>\n",
       "      <td>$hutter</td>\n",
       "      <td>actor</td>\n",
       "      <td>1988 Opera House Patron</td>\n",
       "      <td>NaN</td>\n",
       "    </tr>\n",
       "    <tr>\n",
       "      <th>...</th>\n",
       "      <td>...</td>\n",
       "      <td>...</td>\n",
       "      <td>...</td>\n",
       "      <td>...</td>\n",
       "      <td>...</td>\n",
       "      <td>...</td>\n",
       "    </tr>\n",
       "    <tr>\n",
       "      <th>3442897</th>\n",
       "      <td>Foxtrot</td>\n",
       "      <td>1988</td>\n",
       "      <td>Lilja Þórisdóttir</td>\n",
       "      <td>actress</td>\n",
       "      <td>Dóra</td>\n",
       "      <td>24.0</td>\n",
       "    </tr>\n",
       "    <tr>\n",
       "      <th>3442898</th>\n",
       "      <td>Niceland (Population. 1.000.002)</td>\n",
       "      <td>2004</td>\n",
       "      <td>Sigríður Jóna Þórisdóttir</td>\n",
       "      <td>actress</td>\n",
       "      <td>Woman in Bus</td>\n",
       "      <td>26.0</td>\n",
       "    </tr>\n",
       "    <tr>\n",
       "      <th>3442899</th>\n",
       "      <td>Skammdegi</td>\n",
       "      <td>1985</td>\n",
       "      <td>Dalla Þórðardóttir</td>\n",
       "      <td>actress</td>\n",
       "      <td>Hjúkrunarkona</td>\n",
       "      <td>9.0</td>\n",
       "    </tr>\n",
       "    <tr>\n",
       "      <th>3442900</th>\n",
       "      <td>U.S.S.S.S...</td>\n",
       "      <td>2003</td>\n",
       "      <td>Kristín Andrea Þórðardóttir</td>\n",
       "      <td>actress</td>\n",
       "      <td>Afgr.dama á bensínstöð</td>\n",
       "      <td>17.0</td>\n",
       "    </tr>\n",
       "    <tr>\n",
       "      <th>3442901</th>\n",
       "      <td>Bye Bye Blue Bird</td>\n",
       "      <td>1999</td>\n",
       "      <td>Rosa á Rógvu</td>\n",
       "      <td>actress</td>\n",
       "      <td>Pensionatværtinde</td>\n",
       "      <td>NaN</td>\n",
       "    </tr>\n",
       "  </tbody>\n",
       "</table>\n",
       "<p>3397718 rows × 6 columns</p>\n",
       "</div>"
      ],
      "text/plain": [
       "                                    title  year                         name  \\\n",
       "0                          Closet Monster  2015                     Buffy #1   \n",
       "1                         Suuri illusioni  1985                       Homo $   \n",
       "2                     Battle of the Sexes  2017                      $hutter   \n",
       "3                    Secret in Their Eyes  2015                      $hutter   \n",
       "4                              Steve Jobs  2015                      $hutter   \n",
       "...                                   ...   ...                          ...   \n",
       "3442897                           Foxtrot  1988            Lilja Þórisdóttir   \n",
       "3442898  Niceland (Population. 1.000.002)  2004    Sigríður Jóna Þórisdóttir   \n",
       "3442899                         Skammdegi  1985           Dalla Þórðardóttir   \n",
       "3442900                      U.S.S.S.S...  2003  Kristín Andrea Þórðardóttir   \n",
       "3442901                 Bye Bye Blue Bird  1999                 Rosa á Rógvu   \n",
       "\n",
       "            type                character     n  \n",
       "0          actor                  Buffy 4  31.0  \n",
       "1          actor                   Guests  22.0  \n",
       "2          actor          Bobby Riggs Fan  10.0  \n",
       "3          actor          2002 Dodger Fan   NaN  \n",
       "4          actor  1988 Opera House Patron   NaN  \n",
       "...          ...                      ...   ...  \n",
       "3442897  actress                     Dóra  24.0  \n",
       "3442898  actress             Woman in Bus  26.0  \n",
       "3442899  actress            Hjúkrunarkona   9.0  \n",
       "3442900  actress   Afgr.dama á bensínstöð  17.0  \n",
       "3442901  actress        Pensionatværtinde   NaN  \n",
       "\n",
       "[3397718 rows x 6 columns]"
      ]
     },
     "execution_count": 53,
     "metadata": {},
     "output_type": "execute_result"
    }
   ],
   "source": [
    "c"
   ]
  },
  {
   "cell_type": "code",
   "execution_count": 56,
   "id": "fbc0a743",
   "metadata": {},
   "outputs": [
    {
     "data": {
      "text/plain": [
       "0       4\n",
       "3       4\n",
       "11      4\n",
       "13      4\n",
       "77      4\n",
       "133     4\n",
       "162     1\n",
       "172     2\n",
       "183     4\n",
       "204     4\n",
       "227     4\n",
       "260     2\n",
       "312     2\n",
       "313     4\n",
       "344     6\n",
       "354     4\n",
       "380     4\n",
       "452     4\n",
       "489     4\n",
       "498     4\n",
       "509     4\n",
       "531     4\n",
       "561     2\n",
       "651     4\n",
       "654     4\n",
       "684     4\n",
       "685     4\n",
       "706     2\n",
       "751     4\n",
       "771     4\n",
       "788     4\n",
       "807     4\n",
       "824     4\n",
       "839     2\n",
       "852     4\n",
       "892     2\n",
       "911     2\n",
       "949     4\n",
       "972     1\n",
       "976     4\n",
       "984     4\n",
       "1008    2\n",
       "1052    4\n",
       "1075    4\n",
       "1096    2\n",
       "1118    4\n",
       "1143    6\n",
       "1147    4\n",
       "1164    4\n",
       "1202    4\n",
       "1220    4\n",
       "1236    4\n",
       "1299    4\n",
       "1366    4\n",
       "1437    4\n",
       "1484    4\n",
       "1508    4\n",
       "1568    4\n",
       "1590    4\n",
       "Name: date, dtype: int64"
      ]
     },
     "execution_count": 56,
     "metadata": {},
     "output_type": "execute_result"
    }
   ],
   "source": [
    "c = cast[cast.name == 'Sylvester Stallone']\n",
    "dates = c.merge(r)\n",
    "dates[dates.country == 'USA'].date.dt.dayofweek"
   ]
  },
  {
   "cell_type": "code",
   "execution_count": null,
   "id": "17749d74",
   "metadata": {},
   "outputs": [],
   "source": []
  },
  {
   "cell_type": "code",
   "execution_count": null,
   "id": "65d6a952",
   "metadata": {},
   "outputs": [],
   "source": []
  },
  {
   "cell_type": "code",
   "execution_count": null,
   "id": "d62839c8",
   "metadata": {},
   "outputs": [],
   "source": []
  },
  {
   "cell_type": "code",
   "execution_count": null,
   "id": "19d8f51e",
   "metadata": {},
   "outputs": [],
   "source": []
  },
  {
   "cell_type": "code",
   "execution_count": null,
   "id": "45a04db7",
   "metadata": {},
   "outputs": [],
   "source": []
  },
  {
   "cell_type": "markdown",
   "id": "247dc3b9",
   "metadata": {},
   "source": [
    "# Problems"
   ]
  },
  {
   "cell_type": "markdown",
   "id": "2eb08218",
   "metadata": {},
   "source": [
    "#### 1. Plot the number of films released each decade over time "
   ]
  },
  {
   "cell_type": "code",
   "execution_count": 61,
   "id": "5260f565",
   "metadata": {},
   "outputs": [
    {
     "data": {
      "text/plain": [
       "<AxesSubplot:xlabel='year'>"
      ]
     },
     "execution_count": 61,
     "metadata": {},
     "output_type": "execute_result"
    },
    {
     "data": {
      "image/png": "[encoded data removed]",
      "text/plain": [
       "<Figure size 432x288 with 1 Axes>"
      ]
     },
     "metadata": {
      "needs_background": "light"
     },
     "output_type": "display_data"
    }
   ],
   "source": [
    "titles[titles.year < 2018].groupby(titles.year // 10 * 10).size().plot()"
   ]
  },
  {
   "cell_type": "markdown",
   "id": "f9f3f527",
   "metadata": {},
   "source": [
    "#### 2. How many leading (n=1) roles were available to actors, and how many to actresses, in each year of the 2000's?"
   ]
  },
  {
   "cell_type": "code",
   "execution_count": 66,
   "id": "08b32a60",
   "metadata": {},
   "outputs": [
    {
     "data": {
      "text/plain": [
       "<AxesSubplot:xlabel='year'>"
      ]
     },
     "execution_count": 66,
     "metadata": {},
     "output_type": "execute_result"
    },
    {
     "data": {
      "image/png": "[encoded data removed]",
      "text/plain": [
       "<Figure size 432x288 with 1 Axes>"
      ]
     },
     "metadata": {
      "needs_background": "light"
     },
     "output_type": "display_data"
    }
   ],
   "source": [
    "c = cast[cast.year < 2018]\n",
    "c = c.groupby(['year', 'type']).size()\n",
    "c = c.unstack('type')\n",
    "c.plot(kind='area')"
   ]
  },
  {
   "cell_type": "markdown",
   "id": "2feed253",
   "metadata": {},
   "source": [
    "#### 3. In the 2000's decade taken as a whole, how many total roles were available to actors, and how many to actresses, for each \"n\" number 1 through 4?"
   ]
  },
  {
   "cell_type": "code",
   "execution_count": 69,
   "id": "b4e39192",
   "metadata": {},
   "outputs": [
    {
     "data": {
      "text/html": [
       "<div>\n",
       "<style scoped>\n",
       "    .dataframe tbody tr th:only-of-type {\n",
       "        vertical-align: middle;\n",
       "    }\n",
       "\n",
       "    .dataframe tbody tr th {\n",
       "        vertical-align: top;\n",
       "    }\n",
       "\n",
       "    .dataframe thead th {\n",
       "        text-align: right;\n",
       "    }\n",
       "</style>\n",
       "<table border=\"1\" class=\"dataframe\">\n",
       "  <thead>\n",
       "    <tr style=\"text-align: right;\">\n",
       "      <th>n</th>\n",
       "      <th>1.0</th>\n",
       "      <th>2.0</th>\n",
       "      <th>3.0</th>\n",
       "      <th>4.0</th>\n",
       "    </tr>\n",
       "    <tr>\n",
       "      <th>type</th>\n",
       "      <th></th>\n",
       "      <th></th>\n",
       "      <th></th>\n",
       "      <th></th>\n",
       "    </tr>\n",
       "  </thead>\n",
       "  <tbody>\n",
       "    <tr>\n",
       "      <th>actor</th>\n",
       "      <td>16895</td>\n",
       "      <td>12169</td>\n",
       "      <td>12698</td>\n",
       "      <td>12153</td>\n",
       "    </tr>\n",
       "    <tr>\n",
       "      <th>actress</th>\n",
       "      <td>6698</td>\n",
       "      <td>9978</td>\n",
       "      <td>8131</td>\n",
       "      <td>7508</td>\n",
       "    </tr>\n",
       "  </tbody>\n",
       "</table>\n",
       "</div>"
      ],
      "text/plain": [
       "n          1.0    2.0    3.0    4.0\n",
       "type                               \n",
       "actor    16895  12169  12698  12153\n",
       "actress   6698   9978   8131   7508"
      ]
     },
     "execution_count": 69,
     "metadata": {},
     "output_type": "execute_result"
    }
   ],
   "source": [
    "c = cast[(cast.n < 5) & (cast.year> 1999) & (cast.year < 2010)]\n",
    "c.groupby(['type', 'n']).size().unstack('n')"
   ]
  },
  {
   "cell_type": "markdown",
   "id": "90287317",
   "metadata": {},
   "source": [
    "#### 4. Plot the fraction of actor roles relative to total roles over time, hint you may need to adjust the ylim to get a meaningful plot "
   ]
  },
  {
   "cell_type": "code",
   "execution_count": 73,
   "id": "fe5360b5",
   "metadata": {},
   "outputs": [
    {
     "data": {
      "text/plain": [
       "<AxesSubplot:xlabel='year'>"
      ]
     },
     "execution_count": 73,
     "metadata": {},
     "output_type": "execute_result"
    },
    {
     "data": {
      "image/png": "[encoded data removed]",
      "text/plain": [
       "<Figure size 432x288 with 1 Axes>"
      ]
     },
     "metadata": {
      "needs_background": "light"
     },
     "output_type": "display_data"
    }
   ],
   "source": [
    "c = cast[cast.year < 2018]\n",
    "c = c.groupby(['year', 'type']).size()\n",
    "c = c.unstack('type')\n",
    "(c.actor / (c.actor + c.actress)).plot(ylim=(.5,1))"
   ]
  },
  {
   "cell_type": "markdown",
   "id": "f211f0fe",
   "metadata": {},
   "source": [
    "#### 5. Plot the fraction of supporting roles (n = 2) for actors over time"
   ]
  },
  {
   "cell_type": "code",
   "execution_count": null,
   "id": "5cc1afa7",
   "metadata": {},
   "outputs": [],
   "source": []
  },
  {
   "cell_type": "markdown",
   "id": "31b32809",
   "metadata": {},
   "source": [
    "#### 6. Plot the fraction of roles n = 1,2, or 3 over time. Each should be a separate line"
   ]
  },
  {
   "cell_type": "code",
   "execution_count": null,
   "id": "eebed554",
   "metadata": {},
   "outputs": [],
   "source": []
  },
  {
   "cell_type": "markdown",
   "id": "16d8aa7b",
   "metadata": {},
   "source": [
    "#### 7. When are Tom Cruise movies typically released (month)? "
   ]
  },
  {
   "cell_type": "code",
   "execution_count": null,
   "id": "5a321dc1",
   "metadata": {},
   "outputs": [],
   "source": []
  },
  {
   "cell_type": "code",
   "execution_count": null,
   "id": "2c4b126f",
   "metadata": {},
   "outputs": [],
   "source": []
  },
  {
   "cell_type": "code",
   "execution_count": null,
   "id": "b6aeda3f",
   "metadata": {},
   "outputs": [],
   "source": []
  },
  {
   "cell_type": "code",
   "execution_count": null,
   "id": "ea25e589",
   "metadata": {},
   "outputs": [],
   "source": []
  },
  {
   "cell_type": "code",
   "execution_count": null,
   "id": "6f21ab88",
   "metadata": {},
   "outputs": [],
   "source": []
  }
 ],
 "metadata": {
  "kernelspec": {
   "display_name": "Python 3",
   "language": "python",
   "name": "python3"
  },
  "language_info": {
   "codemirror_mode": {
    "name": "ipython",
    "version": 3
   },
   "file_extension": ".py",
   "mimetype": "text/x-python",
   "name": "python",
   "nbconvert_exporter": "python",
   "pygments_lexer": "ipython3",
   "version": "3.8.8"
  }
 },
 "nbformat": 4,
 "nbformat_minor": 5
}
