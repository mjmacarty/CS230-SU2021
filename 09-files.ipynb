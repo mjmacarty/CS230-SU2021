{
 "cells": [
  {
   "cell_type": "markdown",
   "metadata": {},
   "source": [
    "# Working with files & Intro to matplotlib"
   ]
  },
  {
   "cell_type": "markdown",
   "metadata": {},
   "source": [
    "### reading and writing from/to files\n",
    "* Python has a built-in function \"open\" that allows you to read and writes files\n",
    "* You can read pretty much any file, but things like Word are proprietary really can't be used\n",
    "* you will primarily read/write to/from .txt files and .csv files\n",
    "* having external files where data is stored allows your programs to have persistance\n",
    "* typically when you run a program the data you create is only available during the running of that program\n",
    "* if you save some elements out to a file you can access them the next time you run your program\n"
   ]
  },
  {
   "cell_type": "code",
   "execution_count": 1,
   "metadata": {},
   "outputs": [],
   "source": [
    "text = \"\"\"Darkness at the break of noon  \n",
    "          Shadows even the silver spoon  \n",
    "          The handmade blade, the child's balloon  \n",
    "          Eclipses both the sun and moon\"\"\""
   ]
  },
  {
   "cell_type": "code",
   "execution_count": 3,
   "metadata": {},
   "outputs": [
    {
     "name": "stdout",
     "output_type": "stream",
     "text": [
      "Darkness at the break of noon  \n",
      "          Shadows even the silver spoon  \n",
      "          The handmade blade, the child's balloon  \n",
      "          Eclipses both the sun and moon\n"
     ]
    }
   ],
   "source": [
    "print(text)"
   ]
  },
  {
   "cell_type": "code",
   "execution_count": 10,
   "metadata": {},
   "outputs": [
    {
     "data": {
      "text/plain": [
       "['Darkness at the break of noon',\n",
       " 'Shadows even the silver spoon',\n",
       " \"The handmade blade, the child's balloon\",\n",
       " 'Eclipses both the sun and moon']"
      ]
     },
     "execution_count": 10,
     "metadata": {},
     "output_type": "execute_result"
    }
   ],
   "source": [
    "# append to list\n",
    "text_list =text.split('\\n')\n",
    "text_join =[]\n",
    "for line in text_list:\n",
    "    text_join.append(\" \".join(line.split()))\n",
    "\n",
    "text_join"
   ]
  },
  {
   "cell_type": "markdown",
   "metadata": {},
   "source": [
    "### About \"open\"\n",
    "* open has three primary modes we are concerned with: read, write, append\n",
    "* if you open a file in write mode ('w'), if it does not exist, Python creates it\n",
    "* when you open a file in write mode, anything already in the file is wiped out - be careful with write\n",
    "* if you want to add data to a file, use 'a' mode\n",
    "* to read data use 'r'\n",
    "* be sure to call close on your file object once reading or writing to\n",
    "##### Read mode\n",
    "* each time you use open you create a file object\n",
    "* in read mode there are three methods we use with which to get the data into a python variable:\n",
    "    * read -- reads the entire file into a single string\n",
    "    * readline -- read only the first line of the fike (useful) for headings\n",
    "    * readlines -- creates a list with each line of the file as an element of that list"
   ]
  },
  {
   "cell_type": "code",
   "execution_count": 18,
   "metadata": {},
   "outputs": [],
   "source": [
    "f = open('lyrics.txt', 'w')\n",
    "for line in text_join:\n",
    "    f.write(line + \"\\n\") \n",
    "f.close()\n",
    "# after you run this cell you will be able to locate and open lyrics.txt with pretty much any program\n",
    "# try it now (the file will be in your current working directory)"
   ]
  },
  {
   "cell_type": "code",
   "execution_count": 20,
   "metadata": {},
   "outputs": [
    {
     "name": "stdout",
     "output_type": "stream",
     "text": [
      "Darkness at the break of noon\n",
      "Shadows even the silver spoon\n",
      "The handmade blade, the child's balloon\n",
      "Eclipses both the sun and moon\n",
      "\n"
     ]
    }
   ],
   "source": [
    "# read --> reads into a str object\n",
    "file = open('lyrics.txt', 'r')\n",
    "print(file.read())\n",
    "file.close()"
   ]
  },
  {
   "cell_type": "code",
   "execution_count": 27,
   "metadata": {},
   "outputs": [
    {
     "name": "stdout",
     "output_type": "stream",
     "text": [
      "Darkness at the break of noon\n",
      "\n",
      "['Shadows even the silver spoon\\n', \"The handmade blade, the child's balloon\\n\", 'Eclipses both the sun and moon\\n']\n"
     ]
    }
   ],
   "source": [
    "with open('lyrics.txt', 'r') as file:\n",
    "    # reads the first line only\n",
    "    first_line = file.readline()\n",
    "    # reads all remaining lines into a list\n",
    "    the_rest = file.readlines()\n",
    "file.close()\n",
    "print(first_line)\n",
    "print(the_rest)"
   ]
  },
  {
   "cell_type": "code",
   "execution_count": 28,
   "metadata": {},
   "outputs": [
    {
     "data": {
      "text/plain": [
       "str"
      ]
     },
     "execution_count": 28,
     "metadata": {},
     "output_type": "execute_result"
    }
   ],
   "source": [
    "type(first_line)"
   ]
  },
  {
   "cell_type": "code",
   "execution_count": 31,
   "metadata": {},
   "outputs": [
    {
     "data": {
      "text/plain": [
       "list"
      ]
     },
     "execution_count": 31,
     "metadata": {},
     "output_type": "execute_result"
    }
   ],
   "source": [
    "type(the_rest)"
   ]
  },
  {
   "cell_type": "code",
   "execution_count": null,
   "metadata": {},
   "outputs": [],
   "source": []
  },
  {
   "cell_type": "code",
   "execution_count": null,
   "metadata": {},
   "outputs": [],
   "source": []
  }
 ],
 "metadata": {
  "kernelspec": {
   "display_name": "Python 3",
   "language": "python",
   "name": "python3"
  },
  "language_info": {
   "codemirror_mode": {
    "name": "ipython",
    "version": 3
   },
   "file_extension": ".py",
   "mimetype": "text/x-python",
   "name": "python",
   "nbconvert_exporter": "python",
   "pygments_lexer": "ipython3",
   "version": "3.8.8"
  }
 },
 "nbformat": 4,
 "nbformat_minor": 4
}
