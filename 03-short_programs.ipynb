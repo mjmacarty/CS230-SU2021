{
 "cells": [
  {
   "cell_type": "markdown",
   "metadata": {},
   "source": [
    "# More Short Programs & Standard Library "
   ]
  },
  {
   "cell_type": "markdown",
   "metadata": {},
   "source": [
    "### Variables\n",
    "* Variable is a name assigned to any Python object \n",
    "* Can assign a variable to any Python object\n",
    "* Used as a refernce point for values that may not be known at the start of a program\n",
    "* Should be named descriptively, using underscores to separate multiple words\n",
    "* Avoid [reserved words](https://www.w3schools.com/python/python_ref_keywords.asp) \n",
    "* Avoid conventions like num1, num2\n",
    "### input()\n",
    "* input is a top level built-in function\n",
    "* Can be used to get and store values from a user\n",
    "* Can be used to introduce a pause in code execution\n",
    "* Can be thought of as a listener waiting for the enter key to be pressed\n",
    "* Data captured by input will be string data\n",
    "### Recasting\n",
    "* Transforming one object type to another\n",
    "* Commonly used transformations:\n",
    "    * int([value])\n",
    "    * float([value])\n",
    "    * str([value])\n",
    "    \n",
    "###  Operations \n",
    "* = --> assignment operator\n",
    "* == --> comparison operator for equality, \n",
    "* != --> not equal\n",
    "* <, >, <=, >=\n",
    "* += --> incrementer \n",
    "* -= --> decrementer\n",
    "* other combinations can also be used, i.e. *=, etc,"
   ]
  },
  {
   "cell_type": "code",
   "execution_count": null,
   "metadata": {},
   "outputs": [],
   "source": []
  },
  {
   "cell_type": "code",
   "execution_count": null,
   "metadata": {},
   "outputs": [],
   "source": []
  },
  {
   "cell_type": "code",
   "execution_count": null,
   "metadata": {},
   "outputs": [],
   "source": []
  },
  {
   "cell_type": "markdown",
   "metadata": {},
   "source": [
    "### Try this in the code editor of choice\n",
    "1. Write a program that asks a user for two numeric inputs\n",
    "2. Store the two inputs in (poorly named) variables A and B\n",
    "3. Print out the variable name and its value\n",
    "4. Write the code necessary to switch the values and then output the revised values for A and B "
   ]
  },
  {
   "cell_type": "code",
   "execution_count": null,
   "metadata": {},
   "outputs": [],
   "source": []
  },
  {
   "cell_type": "markdown",
   "metadata": {},
   "source": [
    "# Symbolic Constants\n",
    "* Some programming languages require you to define a variable BEFORE assigning values to it. \n",
    "* This has some advantages, mainly protects against the data being recast\n",
    "* The advantage also turns out to be somewhat of a disadvantage too\n",
    "* This type of language convention is known as \"strongly type\"\n",
    "* Strongly typed languages may also allow other modifiers such as \"constant\" to be used\n",
    "* The opposite of strongly typed is loosely typed --> Python \n",
    "* Recent updates to Python have added a Pythonic version of strongly typed called \"type hinting\" \n",
    "* However things like constants and otehr contraints cannot be strictly enforced in Python --> anti-Pythonic!\n",
    "* Instead if we have the need to introduce a constant we do it symbolically.\n",
    "* Just a variable named in all CAPS"
   ]
  },
  {
   "cell_type": "code",
   "execution_count": null,
   "metadata": {},
   "outputs": [],
   "source": [
    "SALES_TAX_RATE = .0625"
   ]
  },
  {
   "cell_type": "code",
   "execution_count": null,
   "metadata": {},
   "outputs": [],
   "source": []
  },
  {
   "cell_type": "markdown",
   "metadata": {},
   "source": [
    "### Lets write a program to calculate income tax (simplfied!)\n",
    "1. Tax rate is 20%\n",
    "2. Standard deduction is $12,200\n",
    "\n",
    "3. Dependent deduction $2,000 per dependent\n",
    "4. User enters their income and number of dependents\n",
    "5. Calculate taxable income and income tax due\n",
    "6. Output Taxable income and income tax due"
   ]
  },
  {
   "cell_type": "markdown",
   "metadata": {},
   "source": [
    "### Tips\n",
    "* generally if you are importing anything, i.e. time, etc those imports should be at the program's  beginning \n",
    "* symbolic constants should immediately follow inport statements"
   ]
  },
  {
   "cell_type": "code",
   "execution_count": null,
   "metadata": {},
   "outputs": [],
   "source": []
  },
  {
   "cell_type": "code",
   "execution_count": null,
   "metadata": {},
   "outputs": [],
   "source": []
  },
  {
   "cell_type": "code",
   "execution_count": null,
   "metadata": {},
   "outputs": [],
   "source": []
  },
  {
   "cell_type": "code",
   "execution_count": null,
   "metadata": {},
   "outputs": [],
   "source": []
  }
 ],
 "metadata": {
  "kernelspec": {
   "display_name": "Python 3",
   "language": "python",
   "name": "python3"
  },
  "language_info": {
   "codemirror_mode": {
    "name": "ipython",
    "version": 3
   },
   "file_extension": ".py",
   "mimetype": "text/x-python",
   "name": "python",
   "nbconvert_exporter": "python",
   "pygments_lexer": "ipython3",
   "version": "3.8.8"
  }
 },
 "nbformat": 4,
 "nbformat_minor": 2
}
