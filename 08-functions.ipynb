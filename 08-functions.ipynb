{
 "cells": [
  {
   "cell_type": "markdown",
   "id": "c7ad7cf1",
   "metadata": {},
   "source": [
    "# User Defined Functions\n",
    "* Allow for creation and management of larger programs\n",
    "* Allows for complexity to be separated from program flow\n",
    "* Can minimize code redundency\n",
    "* Functions can be used to package scripts for use and reuse\n",
    "* Allow us to organize code more effectively\n",
    "* Types:\n",
    "    * no argument, no return value(s) (void)\n",
    "    * no argument, with return value(s)\n",
    "    * argument(s), no return value(s) (void)\n",
    "    * argument(s), with return value(s)\n",
    "* Technically, a function can only have one return value, but it can be a collection\n",
    "* Functions often used to encapsulate an important alogorithm"
   ]
  },
  {
   "cell_type": "markdown",
   "id": "25b2bbe8",
   "metadata": {},
   "source": [
    "### Function Examples"
   ]
  },
  {
   "cell_type": "code",
   "execution_count": 2,
   "id": "e7f4f0b6",
   "metadata": {},
   "outputs": [],
   "source": [
    "# function placeholder\n",
    "def algorithm():\n",
    "    pass"
   ]
  },
  {
   "cell_type": "code",
   "execution_count": 6,
   "id": "986f34f5",
   "metadata": {},
   "outputs": [],
   "source": [
    "algorithm()"
   ]
  },
  {
   "cell_type": "code",
   "execution_count": 9,
   "id": "8da0ffe5",
   "metadata": {},
   "outputs": [],
   "source": [
    "def algorithm(x):\n",
    "    pass"
   ]
  },
  {
   "cell_type": "code",
   "execution_count": 11,
   "id": "96849355",
   "metadata": {},
   "outputs": [],
   "source": [
    "algorithm(1)"
   ]
  },
  {
   "cell_type": "code",
   "execution_count": 22,
   "id": "b3f4dc45",
   "metadata": {},
   "outputs": [],
   "source": [
    "def address():\n",
    "    print(\"Bentley University\")\n",
    "    print(\"175 Forest St.\")\n",
    "    print(\"Waltham, MA 02452\")"
   ]
  },
  {
   "cell_type": "code",
   "execution_count": 17,
   "id": "eeacb386",
   "metadata": {},
   "outputs": [
    {
     "name": "stdout",
     "output_type": "stream",
     "text": [
      "Bentley University\n",
      "175 Forest St.\n",
      "Waltham, MA 02452\n"
     ]
    }
   ],
   "source": [
    "address()"
   ]
  },
  {
   "cell_type": "code",
   "execution_count": 27,
   "id": "217b5309",
   "metadata": {},
   "outputs": [
    {
     "name": "stdout",
     "output_type": "stream",
     "text": [
      "Bentley University\n",
      "175 Forest St.\n",
      "Waltham, MA 02452\n"
     ]
    }
   ],
   "source": [
    "def address():\n",
    "    return f\"Bentley University\\n175 Forest St.\\nWaltham, MA 02452\"\n",
    "print(address())"
   ]
  },
  {
   "cell_type": "code",
   "execution_count": 21,
   "id": "beace1cd",
   "metadata": {},
   "outputs": [
    {
     "name": "stdout",
     "output_type": "stream",
     "text": [
      "Bentley University\n",
      "175 Forest St.\n",
      "Waltham, MA 02452\n"
     ]
    }
   ],
   "source": [
    "bentley_address = address()\n",
    "print(bentley_address)"
   ]
  },
  {
   "cell_type": "code",
   "execution_count": 23,
   "id": "f05eeb23",
   "metadata": {},
   "outputs": [
    {
     "name": "stdout",
     "output_type": "stream",
     "text": [
      "Bentley University\n",
      "175 Forest St.\n",
      "Waltham, MA 02452\n"
     ]
    }
   ],
   "source": [
    "b_address = address()\n",
    "b_address"
   ]
  },
  {
   "cell_type": "code",
   "execution_count": 24,
   "id": "85307276",
   "metadata": {},
   "outputs": [
    {
     "name": "stdout",
     "output_type": "stream",
     "text": [
      "Bentley University\n",
      "175 Forest St.\n",
      "Waltham, MA 02452\n"
     ]
    }
   ],
   "source": [
    "address()"
   ]
  },
  {
   "cell_type": "markdown",
   "id": "b3fc5922",
   "metadata": {},
   "source": [
    "### Optional arguments"
   ]
  },
  {
   "cell_type": "code",
   "execution_count": 29,
   "id": "382d8d12",
   "metadata": {},
   "outputs": [],
   "source": [
    "def cube_or_square(x, square=True):\n",
    "    if square == True:\n",
    "        return x ** 2\n",
    "    else:\n",
    "        return x ** 3\n",
    "        "
   ]
  },
  {
   "cell_type": "code",
   "execution_count": 33,
   "id": "e5221422",
   "metadata": {},
   "outputs": [
    {
     "data": {
      "text/plain": [
       "125"
      ]
     },
     "execution_count": 33,
     "metadata": {},
     "output_type": "execute_result"
    }
   ],
   "source": [
    "cube_or_square(5, 'anything')"
   ]
  },
  {
   "cell_type": "markdown",
   "id": "0cf575a8",
   "metadata": {},
   "source": [
    "### Boolean functions"
   ]
  },
  {
   "cell_type": "code",
   "execution_count": 36,
   "id": "c13d2793",
   "metadata": {},
   "outputs": [],
   "source": [
    "def is_odd(x):\n",
    "    if x % 2:\n",
    "        return True\n",
    "    else:\n",
    "        return False"
   ]
  },
  {
   "cell_type": "code",
   "execution_count": 38,
   "id": "e6e33f14",
   "metadata": {},
   "outputs": [
    {
     "data": {
      "text/plain": [
       "False"
      ]
     },
     "execution_count": 38,
     "metadata": {},
     "output_type": "execute_result"
    }
   ],
   "source": [
    "is_odd(2)"
   ]
  },
  {
   "cell_type": "code",
   "execution_count": 39,
   "id": "174fe3d8",
   "metadata": {},
   "outputs": [],
   "source": [
    "def every_twelfth(x):\n",
    "    if not x % 12:\n",
    "        return f\"Divisible by 12\", x % 12\n",
    "    else:\n",
    "        return f\"Not divisible\", x % 12"
   ]
  },
  {
   "cell_type": "code",
   "execution_count": 40,
   "id": "0cd0678c",
   "metadata": {},
   "outputs": [
    {
     "data": {
      "text/plain": [
       "('Divisible by 12', 0)"
      ]
     },
     "execution_count": 40,
     "metadata": {},
     "output_type": "execute_result"
    }
   ],
   "source": [
    "every_twelfth(12)"
   ]
  },
  {
   "cell_type": "code",
   "execution_count": 41,
   "id": "49324a8a",
   "metadata": {},
   "outputs": [
    {
     "data": {
      "text/plain": [
       "('Not divisible', 11)"
      ]
     },
     "execution_count": 41,
     "metadata": {},
     "output_type": "execute_result"
    }
   ],
   "source": [
    "every_twelfth(11)"
   ]
  },
  {
   "cell_type": "markdown",
   "id": "835e7181",
   "metadata": {},
   "source": [
    "### Algorithmic functions"
   ]
  },
  {
   "cell_type": "code",
   "execution_count": 42,
   "id": "8c12fe7d",
   "metadata": {},
   "outputs": [],
   "source": [
    "def adder(low, high):\n",
    "    total = 0\n",
    "    while low <= high:\n",
    "        total += low\n",
    "        low += 1\n",
    "    return total"
   ]
  },
  {
   "cell_type": "code",
   "execution_count": 43,
   "id": "66d6ff9d",
   "metadata": {},
   "outputs": [
    {
     "data": {
      "text/plain": [
       "55"
      ]
     },
     "execution_count": 43,
     "metadata": {},
     "output_type": "execute_result"
    }
   ],
   "source": [
    "adder(1,10)"
   ]
  },
  {
   "cell_type": "code",
   "execution_count": 44,
   "id": "41758852",
   "metadata": {},
   "outputs": [
    {
     "data": {
      "text/plain": [
       "15150"
      ]
     },
     "execution_count": 44,
     "metadata": {},
     "output_type": "execute_result"
    }
   ],
   "source": [
    "adder(100,200)"
   ]
  },
  {
   "cell_type": "code",
   "execution_count": 57,
   "id": "6fbc4820",
   "metadata": {},
   "outputs": [
    {
     "name": "stdout",
     "output_type": "stream",
     "text": [
      "2500000000.0\n"
     ]
    }
   ],
   "source": [
    "print(2.50e9)"
   ]
  },
  {
   "cell_type": "code",
   "execution_count": 55,
   "id": "6ac23526",
   "metadata": {},
   "outputs": [],
   "source": [
    "def scientific(x):\n",
    "    exp = 0\n",
    "    scientific = x\n",
    "    while scientific > 10:\n",
    "        scientific /= 10\n",
    "    while x > 10:\n",
    "        x //= 10\n",
    "        exp += 1\n",
    "    return f\"{scientific:.2f}e{exp}\"    \n",
    "    "
   ]
  },
  {
   "cell_type": "code",
   "execution_count": 63,
   "id": "9fa91dbd",
   "metadata": {},
   "outputs": [
    {
     "data": {
      "text/plain": [
       "'2.30e1'"
      ]
     },
     "execution_count": 63,
     "metadata": {},
     "output_type": "execute_result"
    }
   ],
   "source": [
    "scientific(23)"
   ]
  },
  {
   "cell_type": "code",
   "execution_count": 54,
   "id": "a066fe71",
   "metadata": {},
   "outputs": [
    {
     "data": {
      "text/plain": [
       "2.5"
      ]
     },
     "execution_count": 54,
     "metadata": {},
     "output_type": "execute_result"
    }
   ],
   "source": [
    "25 / 10"
   ]
  },
  {
   "cell_type": "code",
   "execution_count": null,
   "id": "0c89dcae",
   "metadata": {},
   "outputs": [],
   "source": []
  },
  {
   "cell_type": "code",
   "execution_count": null,
   "id": "9d1ee0bb",
   "metadata": {},
   "outputs": [],
   "source": []
  }
 ],
 "metadata": {
  "kernelspec": {
   "display_name": "Python 3",
   "language": "python",
   "name": "python3"
  },
  "language_info": {
   "codemirror_mode": {
    "name": "ipython",
    "version": 3
   },
   "file_extension": ".py",
   "mimetype": "text/x-python",
   "name": "python",
   "nbconvert_exporter": "python",
   "pygments_lexer": "ipython3",
   "version": "3.8.8"
  }
 },
 "nbformat": 4,
 "nbformat_minor": 5
}
